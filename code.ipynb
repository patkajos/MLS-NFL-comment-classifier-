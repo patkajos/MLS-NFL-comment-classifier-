{
 "cells": [
  {
   "cell_type": "markdown",
   "metadata": {},
   "source": [
    "### Natural language processing with reddits comments(MLS, NFL)"
   ]
  },
  {
   "cell_type": "markdown",
   "metadata": {},
   "source": [
    "#### Importing library "
   ]
  },
  {
   "cell_type": "code",
   "execution_count": null,
   "metadata": {},
   "outputs": [],
   "source": [
    "import numpy as np\n",
    "import pandas as pd\n",
    "import matplotlib.pyplot as plt\n",
    "import seaborn as sns\n",
    "%matplotlib inline\n",
    "\n",
    "from nltk.corpus import stopwords\n",
    "from nltk.stem import PorterStemmer\n",
    "from sklearn import metrics\n",
    "#from sklearn.model_selection import train_test_split, cross_val_score\n",
    "from sklearn.feature_extraction.text import CountVectorizer, HashingVectorizer, TfidfVectorizer\n",
    "from sklearn.decomposition import LatentDirichletAllocation, TruncatedSVD\n",
    "from sklearn.linear_model import LogisticRegression\n",
    "from sklearn.metrics import confusion_matrix, classification_report, roc_curve, auc\n",
    "from sklearn.model_selection import train_test_split, GridSearchCV, cross_val_score\n",
    "from sklearn.neighbors import KNeighborsClassifier\n",
    "from sklearn.pipeline import make_union, make_pipeline\n",
    "from sklearn.preprocessing import StandardScaler\n",
    "\n",
    "import string"
   ]
  },
  {
   "cell_type": "markdown",
   "metadata": {},
   "source": [
    "#### Importing our data "
   ]
  },
  {
   "cell_type": "code",
   "execution_count": 4,
   "metadata": {},
   "outputs": [],
   "source": [
    "import requests \n",
    "ref = 'https://api.pushshift.io/reddit/search/comment'"
   ]
  },
  {
   "cell_type": "code",
   "execution_count": 5,
   "metadata": {},
   "outputs": [
    {
     "data": {
      "text/plain": [
       "200"
      ]
     },
     "execution_count": 5,
     "metadata": {},
     "output_type": "execute_result"
    }
   ],
   "source": [
    "paramet ={'subreddit': 'MLS',\n",
    "          'size': 935\n",
    "           }\n",
    "req =requests.get(ref,paramet)\n",
    "req.status_code"
   ]
  },
  {
   "cell_type": "code",
   "execution_count": 6,
   "metadata": {},
   "outputs": [],
   "source": [
    "t = req.json()['data']"
   ]
  },
  {
   "cell_type": "code",
   "execution_count": 7,
   "metadata": {},
   "outputs": [
    {
     "data": {
      "text/plain": [
       "{'all_awardings': [],\n",
       " 'associated_award': None,\n",
       " 'author': 'smala017',\n",
       " 'author_flair_background_color': 'transparent',\n",
       " 'author_flair_css_class': 'ner',\n",
       " 'author_flair_richtext': [{'e': 'text', 't': 'New England Revolution'}],\n",
       " 'author_flair_template_id': '50dedc5a-fa9e-11e0-93ce-12313b0cf4c9',\n",
       " 'author_flair_text': 'New England Revolution',\n",
       " 'author_flair_text_color': 'dark',\n",
       " 'author_flair_type': 'richtext',\n",
       " 'author_fullname': 't2_zewxn',\n",
       " 'author_patreon_flair': False,\n",
       " 'author_premium': False,\n",
       " 'awarders': [],\n",
       " 'body': \"&gt;I don't think sports will be gone, but I'm not sure how we get to having sports from the mess we have now.\\n\\nGive it time. Things obviously look super bleak right now, as the last week or so was the peak of the crisis for most of the US. Projections show that new infections and deaths will start to get really small by early June. Of course, there's always a fear of a second wave of the virus. But, I think you're kidding yourself if you think that sports leagues and politicians won't try to reopen in the summer when things *look* to be at an end, even if this may go against the advice of public health experts.\",\n",
       " 'collapsed_because_crowd_control': None,\n",
       " 'created_utc': 1587952212,\n",
       " 'gildings': {},\n",
       " 'id': 'fop3f31',\n",
       " 'is_submitter': False,\n",
       " 'link_id': 't3_g8hnfu',\n",
       " 'locked': False,\n",
       " 'no_follow': True,\n",
       " 'parent_id': 't1_fop1s0s',\n",
       " 'permalink': '/r/MLS/comments/g8hnfu/mls_and_la_regarding_covid_19/fop3f31/',\n",
       " 'retrieved_on': 1587953183,\n",
       " 'score': 1,\n",
       " 'send_replies': True,\n",
       " 'stickied': False,\n",
       " 'subreddit': 'MLS',\n",
       " 'subreddit_id': 't5_2rbnb',\n",
       " 'total_awards_received': 0,\n",
       " 'treatment_tags': []}"
      ]
     },
     "execution_count": 7,
     "metadata": {},
     "output_type": "execute_result"
    }
   ],
   "source": [
    "t[2]"
   ]
  },
  {
   "cell_type": "code",
   "execution_count": 8,
   "metadata": {},
   "outputs": [],
   "source": [
    "df = pd.DataFrame(t)"
   ]
  },
  {
   "cell_type": "code",
   "execution_count": 9,
   "metadata": {},
   "outputs": [
    {
     "data": {
      "text/html": [
       "<div>\n",
       "<style scoped>\n",
       "    .dataframe tbody tr th:only-of-type {\n",
       "        vertical-align: middle;\n",
       "    }\n",
       "\n",
       "    .dataframe tbody tr th {\n",
       "        vertical-align: top;\n",
       "    }\n",
       "\n",
       "    .dataframe thead th {\n",
       "        text-align: right;\n",
       "    }\n",
       "</style>\n",
       "<table border=\"1\" class=\"dataframe\">\n",
       "  <thead>\n",
       "    <tr style=\"text-align: right;\">\n",
       "      <th></th>\n",
       "      <th>all_awardings</th>\n",
       "      <th>associated_award</th>\n",
       "      <th>author</th>\n",
       "      <th>author_flair_background_color</th>\n",
       "      <th>author_flair_css_class</th>\n",
       "      <th>author_flair_richtext</th>\n",
       "      <th>author_flair_template_id</th>\n",
       "      <th>author_flair_text</th>\n",
       "      <th>author_flair_text_color</th>\n",
       "      <th>author_flair_type</th>\n",
       "      <th>...</th>\n",
       "      <th>score</th>\n",
       "      <th>send_replies</th>\n",
       "      <th>stickied</th>\n",
       "      <th>subreddit</th>\n",
       "      <th>subreddit_id</th>\n",
       "      <th>total_awards_received</th>\n",
       "      <th>treatment_tags</th>\n",
       "      <th>edited</th>\n",
       "      <th>author_cakeday</th>\n",
       "      <th>distinguished</th>\n",
       "    </tr>\n",
       "  </thead>\n",
       "  <tbody>\n",
       "    <tr>\n",
       "      <td>0</td>\n",
       "      <td>[]</td>\n",
       "      <td>None</td>\n",
       "      <td>fdar</td>\n",
       "      <td>transparent</td>\n",
       "      <td>nyc</td>\n",
       "      <td>[{'e': 'text', 't': 'New York City FC '}, {'a'...</td>\n",
       "      <td>540b6402-fa9e-11e0-90f6-12313b0888e1</td>\n",
       "      <td>New York City FC :nyc:</td>\n",
       "      <td>dark</td>\n",
       "      <td>richtext</td>\n",
       "      <td>...</td>\n",
       "      <td>1</td>\n",
       "      <td>True</td>\n",
       "      <td>False</td>\n",
       "      <td>MLS</td>\n",
       "      <td>t5_2rbnb</td>\n",
       "      <td>0</td>\n",
       "      <td>[]</td>\n",
       "      <td>NaN</td>\n",
       "      <td>NaN</td>\n",
       "      <td>NaN</td>\n",
       "    </tr>\n",
       "    <tr>\n",
       "      <td>1</td>\n",
       "      <td>[]</td>\n",
       "      <td>None</td>\n",
       "      <td>Dishwasher1027</td>\n",
       "      <td>None</td>\n",
       "      <td>None</td>\n",
       "      <td>[]</td>\n",
       "      <td>None</td>\n",
       "      <td>None</td>\n",
       "      <td>None</td>\n",
       "      <td>text</td>\n",
       "      <td>...</td>\n",
       "      <td>1</td>\n",
       "      <td>True</td>\n",
       "      <td>False</td>\n",
       "      <td>MLS</td>\n",
       "      <td>t5_2rbnb</td>\n",
       "      <td>0</td>\n",
       "      <td>[]</td>\n",
       "      <td>NaN</td>\n",
       "      <td>NaN</td>\n",
       "      <td>NaN</td>\n",
       "    </tr>\n",
       "    <tr>\n",
       "      <td>2</td>\n",
       "      <td>[]</td>\n",
       "      <td>None</td>\n",
       "      <td>smala017</td>\n",
       "      <td>transparent</td>\n",
       "      <td>ner</td>\n",
       "      <td>[{'e': 'text', 't': 'New England Revolution'}]</td>\n",
       "      <td>50dedc5a-fa9e-11e0-93ce-12313b0cf4c9</td>\n",
       "      <td>New England Revolution</td>\n",
       "      <td>dark</td>\n",
       "      <td>richtext</td>\n",
       "      <td>...</td>\n",
       "      <td>1</td>\n",
       "      <td>True</td>\n",
       "      <td>False</td>\n",
       "      <td>MLS</td>\n",
       "      <td>t5_2rbnb</td>\n",
       "      <td>0</td>\n",
       "      <td>[]</td>\n",
       "      <td>NaN</td>\n",
       "      <td>NaN</td>\n",
       "      <td>NaN</td>\n",
       "    </tr>\n",
       "    <tr>\n",
       "      <td>3</td>\n",
       "      <td>[]</td>\n",
       "      <td>None</td>\n",
       "      <td>TrolliusJKingIIIEsq</td>\n",
       "      <td>transparent</td>\n",
       "      <td>por</td>\n",
       "      <td>[{'e': 'text', 't': 'Portland Timbers FC '}, {...</td>\n",
       "      <td>f2693106-c5d5-11e3-b386-12313b073d11</td>\n",
       "      <td>Portland Timbers FC :por:</td>\n",
       "      <td>dark</td>\n",
       "      <td>richtext</td>\n",
       "      <td>...</td>\n",
       "      <td>1</td>\n",
       "      <td>True</td>\n",
       "      <td>False</td>\n",
       "      <td>MLS</td>\n",
       "      <td>t5_2rbnb</td>\n",
       "      <td>0</td>\n",
       "      <td>[]</td>\n",
       "      <td>NaN</td>\n",
       "      <td>NaN</td>\n",
       "      <td>NaN</td>\n",
       "    </tr>\n",
       "    <tr>\n",
       "      <td>4</td>\n",
       "      <td>[]</td>\n",
       "      <td>None</td>\n",
       "      <td>tastycakeman</td>\n",
       "      <td></td>\n",
       "      <td>sea</td>\n",
       "      <td>[{'e': 'text', 't': 'Seattle Sounders'}]</td>\n",
       "      <td>None</td>\n",
       "      <td>Seattle Sounders</td>\n",
       "      <td>dark</td>\n",
       "      <td>richtext</td>\n",
       "      <td>...</td>\n",
       "      <td>1</td>\n",
       "      <td>True</td>\n",
       "      <td>False</td>\n",
       "      <td>MLS</td>\n",
       "      <td>t5_2rbnb</td>\n",
       "      <td>0</td>\n",
       "      <td>[]</td>\n",
       "      <td>NaN</td>\n",
       "      <td>NaN</td>\n",
       "      <td>NaN</td>\n",
       "    </tr>\n",
       "  </tbody>\n",
       "</table>\n",
       "<p>5 rows × 36 columns</p>\n",
       "</div>"
      ],
      "text/plain": [
       "  all_awardings associated_award               author  \\\n",
       "0            []             None                 fdar   \n",
       "1            []             None       Dishwasher1027   \n",
       "2            []             None             smala017   \n",
       "3            []             None  TrolliusJKingIIIEsq   \n",
       "4            []             None         tastycakeman   \n",
       "\n",
       "  author_flair_background_color author_flair_css_class  \\\n",
       "0                   transparent                    nyc   \n",
       "1                          None                   None   \n",
       "2                   transparent                    ner   \n",
       "3                   transparent                    por   \n",
       "4                                                  sea   \n",
       "\n",
       "                               author_flair_richtext  \\\n",
       "0  [{'e': 'text', 't': 'New York City FC '}, {'a'...   \n",
       "1                                                 []   \n",
       "2     [{'e': 'text', 't': 'New England Revolution'}]   \n",
       "3  [{'e': 'text', 't': 'Portland Timbers FC '}, {...   \n",
       "4           [{'e': 'text', 't': 'Seattle Sounders'}]   \n",
       "\n",
       "               author_flair_template_id          author_flair_text  \\\n",
       "0  540b6402-fa9e-11e0-90f6-12313b0888e1     New York City FC :nyc:   \n",
       "1                                  None                       None   \n",
       "2  50dedc5a-fa9e-11e0-93ce-12313b0cf4c9     New England Revolution   \n",
       "3  f2693106-c5d5-11e3-b386-12313b073d11  Portland Timbers FC :por:   \n",
       "4                                  None           Seattle Sounders   \n",
       "\n",
       "  author_flair_text_color author_flair_type  ... score send_replies stickied  \\\n",
       "0                    dark          richtext  ...     1         True    False   \n",
       "1                    None              text  ...     1         True    False   \n",
       "2                    dark          richtext  ...     1         True    False   \n",
       "3                    dark          richtext  ...     1         True    False   \n",
       "4                    dark          richtext  ...     1         True    False   \n",
       "\n",
       "  subreddit subreddit_id total_awards_received  treatment_tags edited  \\\n",
       "0       MLS     t5_2rbnb                     0              []    NaN   \n",
       "1       MLS     t5_2rbnb                     0              []    NaN   \n",
       "2       MLS     t5_2rbnb                     0              []    NaN   \n",
       "3       MLS     t5_2rbnb                     0              []    NaN   \n",
       "4       MLS     t5_2rbnb                     0              []    NaN   \n",
       "\n",
       "  author_cakeday  distinguished  \n",
       "0            NaN            NaN  \n",
       "1            NaN            NaN  \n",
       "2            NaN            NaN  \n",
       "3            NaN            NaN  \n",
       "4            NaN            NaN  \n",
       "\n",
       "[5 rows x 36 columns]"
      ]
     },
     "execution_count": 9,
     "metadata": {},
     "output_type": "execute_result"
    }
   ],
   "source": [
    "df.head()"
   ]
  },
  {
   "cell_type": "code",
   "execution_count": 10,
   "metadata": {},
   "outputs": [
    {
     "data": {
      "text/plain": [
       "Index(['all_awardings', 'associated_award', 'author',\n",
       "       'author_flair_background_color', 'author_flair_css_class',\n",
       "       'author_flair_richtext', 'author_flair_template_id',\n",
       "       'author_flair_text', 'author_flair_text_color', 'author_flair_type',\n",
       "       'author_fullname', 'author_patreon_flair', 'author_premium', 'awarders',\n",
       "       'body', 'collapsed_because_crowd_control', 'created_utc', 'gildings',\n",
       "       'id', 'is_submitter', 'link_id', 'locked', 'no_follow', 'parent_id',\n",
       "       'permalink', 'retrieved_on', 'score', 'send_replies', 'stickied',\n",
       "       'subreddit', 'subreddit_id', 'total_awards_received', 'treatment_tags',\n",
       "       'edited', 'author_cakeday', 'distinguished'],\n",
       "      dtype='object')"
      ]
     },
     "execution_count": 10,
     "metadata": {},
     "output_type": "execute_result"
    }
   ],
   "source": [
    "df.columns "
   ]
  },
  {
   "cell_type": "code",
   "execution_count": 11,
   "metadata": {},
   "outputs": [
    {
     "data": {
      "text/html": [
       "<div>\n",
       "<style scoped>\n",
       "    .dataframe tbody tr th:only-of-type {\n",
       "        vertical-align: middle;\n",
       "    }\n",
       "\n",
       "    .dataframe tbody tr th {\n",
       "        vertical-align: top;\n",
       "    }\n",
       "\n",
       "    .dataframe thead th {\n",
       "        text-align: right;\n",
       "    }\n",
       "</style>\n",
       "<table border=\"1\" class=\"dataframe\">\n",
       "  <thead>\n",
       "    <tr style=\"text-align: right;\">\n",
       "      <th></th>\n",
       "      <th>subreddit</th>\n",
       "      <th>body</th>\n",
       "    </tr>\n",
       "  </thead>\n",
       "  <tbody>\n",
       "    <tr>\n",
       "      <td>0</td>\n",
       "      <td>MLS</td>\n",
       "      <td>&amp;gt; Go to Club World Cup\\n\\nBut if you win th...</td>\n",
       "    </tr>\n",
       "    <tr>\n",
       "      <td>1</td>\n",
       "      <td>MLS</td>\n",
       "      <td>Should be noted that City of LA and County of ...</td>\n",
       "    </tr>\n",
       "    <tr>\n",
       "      <td>2</td>\n",
       "      <td>MLS</td>\n",
       "      <td>&amp;gt;I don't think sports will be gone, but I'm...</td>\n",
       "    </tr>\n",
       "    <tr>\n",
       "      <td>3</td>\n",
       "      <td>MLS</td>\n",
       "      <td>It's true; if we adopted this treatment in a w...</td>\n",
       "    </tr>\n",
       "    <tr>\n",
       "      <td>4</td>\n",
       "      <td>MLS</td>\n",
       "      <td>that is generally what having speed does</td>\n",
       "    </tr>\n",
       "  </tbody>\n",
       "</table>\n",
       "</div>"
      ],
      "text/plain": [
       "  subreddit                                               body\n",
       "0       MLS  &gt; Go to Club World Cup\\n\\nBut if you win th...\n",
       "1       MLS  Should be noted that City of LA and County of ...\n",
       "2       MLS  &gt;I don't think sports will be gone, but I'm...\n",
       "3       MLS  It's true; if we adopted this treatment in a w...\n",
       "4       MLS           that is generally what having speed does"
      ]
     },
     "execution_count": 11,
     "metadata": {},
     "output_type": "execute_result"
    }
   ],
   "source": [
    "df[['subreddit','body']].head()"
   ]
  },
  {
   "cell_type": "code",
   "execution_count": 12,
   "metadata": {},
   "outputs": [
    {
     "data": {
      "text/plain": [
       "<bound method Series.items of 0      &gt; Go to Club World Cup\\n\\nBut if you win th...\n",
       "1      Should be noted that City of LA and County of ...\n",
       "2      &gt;I don't think sports will be gone, but I'm...\n",
       "3      It's true; if we adopted this treatment in a w...\n",
       "4               that is generally what having speed does\n",
       "                             ...                        \n",
       "930    Such disrespect for Victor Vasquez. That dude ...\n",
       "931    Does the nwsl care about human lives?\\n\\nThis ...\n",
       "932     I hear if we drink bleach it'll cure us!\\n\\n\\n/s\n",
       "933    I'm so glad this is the sentiment being shared...\n",
       "934    &gt;No fan wants this to happen.\\n\\nWhat if I ...\n",
       "Name: body, Length: 935, dtype: object>"
      ]
     },
     "execution_count": 12,
     "metadata": {},
     "output_type": "execute_result"
    }
   ],
   "source": [
    "df['body'].items"
   ]
  },
  {
   "cell_type": "markdown",
   "metadata": {},
   "source": [
    "### Some clean up  needed on the body of comments"
   ]
  },
  {
   "cell_type": "code",
   "execution_count": 13,
   "metadata": {},
   "outputs": [],
   "source": [
    "ref2 = 'https://api.pushshift.io/reddit/search/comment'"
   ]
  },
  {
   "cell_type": "code",
   "execution_count": 14,
   "metadata": {},
   "outputs": [],
   "source": [
    "paramet ={'subreddit': 'NFL',\n",
    "          'size': 723\n",
    "         }"
   ]
  },
  {
   "cell_type": "code",
   "execution_count": 15,
   "metadata": {},
   "outputs": [],
   "source": [
    "req = requests.get(ref2 ,paramet)"
   ]
  },
  {
   "cell_type": "code",
   "execution_count": 16,
   "metadata": {},
   "outputs": [
    {
     "data": {
      "text/plain": [
       "200"
      ]
     },
     "execution_count": 16,
     "metadata": {},
     "output_type": "execute_result"
    }
   ],
   "source": [
    "req.status_code"
   ]
  },
  {
   "cell_type": "code",
   "execution_count": 17,
   "metadata": {},
   "outputs": [],
   "source": [
    "resp = req.json()['data'][0]"
   ]
  },
  {
   "cell_type": "code",
   "execution_count": 18,
   "metadata": {},
   "outputs": [
    {
     "data": {
      "text/plain": [
       "{'all_awardings': [],\n",
       " 'associated_award': None,\n",
       " 'author': 'Dank_Cartographer',\n",
       " 'author_flair_background_color': None,\n",
       " 'author_flair_css_class': 'giants',\n",
       " 'author_flair_richtext': [{'e': 'text', 't': 'Giants'}],\n",
       " 'author_flair_template_id': '95e5b42e-9b4a-11e2-b1a4-12313d259cae',\n",
       " 'author_flair_text': 'Giants',\n",
       " 'author_flair_text_color': 'dark',\n",
       " 'author_flair_type': 'richtext',\n",
       " 'author_fullname': 't2_10kscx',\n",
       " 'author_patreon_flair': False,\n",
       " 'author_premium': False,\n",
       " 'awarders': [],\n",
       " 'body': 'Idk, you can compare draft value vs actual draft pick number, but its extremely hit or miss with the late rounds. Only time will tell really.',\n",
       " 'collapsed_because_crowd_control': None,\n",
       " 'created_utc': 1587952512,\n",
       " 'gildings': {},\n",
       " 'id': 'fop3w8j',\n",
       " 'is_submitter': False,\n",
       " 'link_id': 't3_g8rbbo',\n",
       " 'locked': False,\n",
       " 'no_follow': True,\n",
       " 'parent_id': 't3_g8rbbo',\n",
       " 'permalink': '/r/nfl/comments/g8rbbo/nfl_draft_steals/fop3w8j/',\n",
       " 'retrieved_on': 1587953442,\n",
       " 'score': 1,\n",
       " 'send_replies': True,\n",
       " 'stickied': False,\n",
       " 'subreddit': 'nfl',\n",
       " 'subreddit_id': 't5_2qmg3',\n",
       " 'total_awards_received': 0,\n",
       " 'treatment_tags': []}"
      ]
     },
     "execution_count": 18,
     "metadata": {},
     "output_type": "execute_result"
    }
   ],
   "source": [
    "resp"
   ]
  },
  {
   "cell_type": "code",
   "execution_count": 19,
   "metadata": {},
   "outputs": [],
   "source": [
    "bask = pd.DataFrame(req.json()['data'])"
   ]
  },
  {
   "cell_type": "code",
   "execution_count": 20,
   "metadata": {},
   "outputs": [
    {
     "data": {
      "text/html": [
       "<div>\n",
       "<style scoped>\n",
       "    .dataframe tbody tr th:only-of-type {\n",
       "        vertical-align: middle;\n",
       "    }\n",
       "\n",
       "    .dataframe tbody tr th {\n",
       "        vertical-align: top;\n",
       "    }\n",
       "\n",
       "    .dataframe thead th {\n",
       "        text-align: right;\n",
       "    }\n",
       "</style>\n",
       "<table border=\"1\" class=\"dataframe\">\n",
       "  <thead>\n",
       "    <tr style=\"text-align: right;\">\n",
       "      <th></th>\n",
       "      <th>subreddit</th>\n",
       "      <th>body</th>\n",
       "    </tr>\n",
       "  </thead>\n",
       "  <tbody>\n",
       "    <tr>\n",
       "      <td>0</td>\n",
       "      <td>nfl</td>\n",
       "      <td>Idk, you can compare draft value vs actual dra...</td>\n",
       "    </tr>\n",
       "    <tr>\n",
       "      <td>1</td>\n",
       "      <td>nfl</td>\n",
       "      <td>Homing missile locked on the tiny dude being c...</td>\n",
       "    </tr>\n",
       "    <tr>\n",
       "      <td>2</td>\n",
       "      <td>nfl</td>\n",
       "      <td>I don’t think I’m being biased by saying Bryce...</td>\n",
       "    </tr>\n",
       "    <tr>\n",
       "      <td>3</td>\n",
       "      <td>nfl</td>\n",
       "      <td>I love her so much too 😭</td>\n",
       "    </tr>\n",
       "    <tr>\n",
       "      <td>4</td>\n",
       "      <td>nfl</td>\n",
       "      <td>CTE just got excited hearing this</td>\n",
       "    </tr>\n",
       "  </tbody>\n",
       "</table>\n",
       "</div>"
      ],
      "text/plain": [
       "  subreddit                                               body\n",
       "0       nfl  Idk, you can compare draft value vs actual dra...\n",
       "1       nfl  Homing missile locked on the tiny dude being c...\n",
       "2       nfl  I don’t think I’m being biased by saying Bryce...\n",
       "3       nfl                           I love her so much too 😭\n",
       "4       nfl                  CTE just got excited hearing this"
      ]
     },
     "execution_count": 20,
     "metadata": {},
     "output_type": "execute_result"
    }
   ],
   "source": [
    "bask[['subreddit','body']].head()"
   ]
  },
  {
   "cell_type": "markdown",
   "metadata": {},
   "source": [
    "### merging our data frame "
   ]
  },
  {
   "cell_type": "code",
   "execution_count": 21,
   "metadata": {},
   "outputs": [],
   "source": [
    "final = pd.concat([df,bask],sort=True, axis= 0,ignore_index=True,)"
   ]
  },
  {
   "cell_type": "code",
   "execution_count": 22,
   "metadata": {},
   "outputs": [
    {
     "data": {
      "text/html": [
       "<div>\n",
       "<style scoped>\n",
       "    .dataframe tbody tr th:only-of-type {\n",
       "        vertical-align: middle;\n",
       "    }\n",
       "\n",
       "    .dataframe tbody tr th {\n",
       "        vertical-align: top;\n",
       "    }\n",
       "\n",
       "    .dataframe thead th {\n",
       "        text-align: right;\n",
       "    }\n",
       "</style>\n",
       "<table border=\"1\" class=\"dataframe\">\n",
       "  <thead>\n",
       "    <tr style=\"text-align: right;\">\n",
       "      <th></th>\n",
       "      <th>all_awardings</th>\n",
       "      <th>associated_award</th>\n",
       "      <th>author</th>\n",
       "      <th>author_cakeday</th>\n",
       "      <th>author_flair_background_color</th>\n",
       "      <th>author_flair_css_class</th>\n",
       "      <th>author_flair_richtext</th>\n",
       "      <th>author_flair_template_id</th>\n",
       "      <th>author_flair_text</th>\n",
       "      <th>author_flair_text_color</th>\n",
       "      <th>...</th>\n",
       "      <th>parent_id</th>\n",
       "      <th>permalink</th>\n",
       "      <th>retrieved_on</th>\n",
       "      <th>score</th>\n",
       "      <th>send_replies</th>\n",
       "      <th>stickied</th>\n",
       "      <th>subreddit</th>\n",
       "      <th>subreddit_id</th>\n",
       "      <th>total_awards_received</th>\n",
       "      <th>treatment_tags</th>\n",
       "    </tr>\n",
       "  </thead>\n",
       "  <tbody>\n",
       "    <tr>\n",
       "      <td>0</td>\n",
       "      <td>[]</td>\n",
       "      <td>None</td>\n",
       "      <td>fdar</td>\n",
       "      <td>NaN</td>\n",
       "      <td>transparent</td>\n",
       "      <td>nyc</td>\n",
       "      <td>[{'e': 'text', 't': 'New York City FC '}, {'a'...</td>\n",
       "      <td>540b6402-fa9e-11e0-90f6-12313b0888e1</td>\n",
       "      <td>New York City FC :nyc:</td>\n",
       "      <td>dark</td>\n",
       "      <td>...</td>\n",
       "      <td>t1_foof3ok</td>\n",
       "      <td>/r/MLS/comments/g8k6cy/lockdown_is_ideal_time_...</td>\n",
       "      <td>1587953399</td>\n",
       "      <td>1</td>\n",
       "      <td>True</td>\n",
       "      <td>False</td>\n",
       "      <td>MLS</td>\n",
       "      <td>t5_2rbnb</td>\n",
       "      <td>0</td>\n",
       "      <td>[]</td>\n",
       "    </tr>\n",
       "    <tr>\n",
       "      <td>1</td>\n",
       "      <td>[]</td>\n",
       "      <td>None</td>\n",
       "      <td>Dishwasher1027</td>\n",
       "      <td>NaN</td>\n",
       "      <td>None</td>\n",
       "      <td>None</td>\n",
       "      <td>[]</td>\n",
       "      <td>None</td>\n",
       "      <td>None</td>\n",
       "      <td>None</td>\n",
       "      <td>...</td>\n",
       "      <td>t3_g8hnfu</td>\n",
       "      <td>/r/MLS/comments/g8hnfu/mls_and_la_regarding_co...</td>\n",
       "      <td>1587953251</td>\n",
       "      <td>1</td>\n",
       "      <td>True</td>\n",
       "      <td>False</td>\n",
       "      <td>MLS</td>\n",
       "      <td>t5_2rbnb</td>\n",
       "      <td>0</td>\n",
       "      <td>[]</td>\n",
       "    </tr>\n",
       "    <tr>\n",
       "      <td>2</td>\n",
       "      <td>[]</td>\n",
       "      <td>None</td>\n",
       "      <td>smala017</td>\n",
       "      <td>NaN</td>\n",
       "      <td>transparent</td>\n",
       "      <td>ner</td>\n",
       "      <td>[{'e': 'text', 't': 'New England Revolution'}]</td>\n",
       "      <td>50dedc5a-fa9e-11e0-93ce-12313b0cf4c9</td>\n",
       "      <td>New England Revolution</td>\n",
       "      <td>dark</td>\n",
       "      <td>...</td>\n",
       "      <td>t1_fop1s0s</td>\n",
       "      <td>/r/MLS/comments/g8hnfu/mls_and_la_regarding_co...</td>\n",
       "      <td>1587953183</td>\n",
       "      <td>1</td>\n",
       "      <td>True</td>\n",
       "      <td>False</td>\n",
       "      <td>MLS</td>\n",
       "      <td>t5_2rbnb</td>\n",
       "      <td>0</td>\n",
       "      <td>[]</td>\n",
       "    </tr>\n",
       "    <tr>\n",
       "      <td>3</td>\n",
       "      <td>[]</td>\n",
       "      <td>None</td>\n",
       "      <td>TrolliusJKingIIIEsq</td>\n",
       "      <td>NaN</td>\n",
       "      <td>transparent</td>\n",
       "      <td>por</td>\n",
       "      <td>[{'e': 'text', 't': 'Portland Timbers FC '}, {...</td>\n",
       "      <td>f2693106-c5d5-11e3-b386-12313b073d11</td>\n",
       "      <td>Portland Timbers FC :por:</td>\n",
       "      <td>dark</td>\n",
       "      <td>...</td>\n",
       "      <td>t1_fooofu0</td>\n",
       "      <td>/r/MLS/comments/g8fldr/la_mayor_says_no_sporti...</td>\n",
       "      <td>1587953012</td>\n",
       "      <td>1</td>\n",
       "      <td>True</td>\n",
       "      <td>False</td>\n",
       "      <td>MLS</td>\n",
       "      <td>t5_2rbnb</td>\n",
       "      <td>0</td>\n",
       "      <td>[]</td>\n",
       "    </tr>\n",
       "    <tr>\n",
       "      <td>4</td>\n",
       "      <td>[]</td>\n",
       "      <td>None</td>\n",
       "      <td>tastycakeman</td>\n",
       "      <td>NaN</td>\n",
       "      <td></td>\n",
       "      <td>sea</td>\n",
       "      <td>[{'e': 'text', 't': 'Seattle Sounders'}]</td>\n",
       "      <td>None</td>\n",
       "      <td>Seattle Sounders</td>\n",
       "      <td>dark</td>\n",
       "      <td>...</td>\n",
       "      <td>t1_foocgf0</td>\n",
       "      <td>/r/MLS/comments/g8hbru/deandre_yedlin_100_perc...</td>\n",
       "      <td>1587952928</td>\n",
       "      <td>1</td>\n",
       "      <td>True</td>\n",
       "      <td>False</td>\n",
       "      <td>MLS</td>\n",
       "      <td>t5_2rbnb</td>\n",
       "      <td>0</td>\n",
       "      <td>[]</td>\n",
       "    </tr>\n",
       "  </tbody>\n",
       "</table>\n",
       "<p>5 rows × 36 columns</p>\n",
       "</div>"
      ],
      "text/plain": [
       "  all_awardings associated_award               author author_cakeday  \\\n",
       "0            []             None                 fdar            NaN   \n",
       "1            []             None       Dishwasher1027            NaN   \n",
       "2            []             None             smala017            NaN   \n",
       "3            []             None  TrolliusJKingIIIEsq            NaN   \n",
       "4            []             None         tastycakeman            NaN   \n",
       "\n",
       "  author_flair_background_color author_flair_css_class  \\\n",
       "0                   transparent                    nyc   \n",
       "1                          None                   None   \n",
       "2                   transparent                    ner   \n",
       "3                   transparent                    por   \n",
       "4                                                  sea   \n",
       "\n",
       "                               author_flair_richtext  \\\n",
       "0  [{'e': 'text', 't': 'New York City FC '}, {'a'...   \n",
       "1                                                 []   \n",
       "2     [{'e': 'text', 't': 'New England Revolution'}]   \n",
       "3  [{'e': 'text', 't': 'Portland Timbers FC '}, {...   \n",
       "4           [{'e': 'text', 't': 'Seattle Sounders'}]   \n",
       "\n",
       "               author_flair_template_id          author_flair_text  \\\n",
       "0  540b6402-fa9e-11e0-90f6-12313b0888e1     New York City FC :nyc:   \n",
       "1                                  None                       None   \n",
       "2  50dedc5a-fa9e-11e0-93ce-12313b0cf4c9     New England Revolution   \n",
       "3  f2693106-c5d5-11e3-b386-12313b073d11  Portland Timbers FC :por:   \n",
       "4                                  None           Seattle Sounders   \n",
       "\n",
       "  author_flair_text_color  ...   parent_id  \\\n",
       "0                    dark  ...  t1_foof3ok   \n",
       "1                    None  ...   t3_g8hnfu   \n",
       "2                    dark  ...  t1_fop1s0s   \n",
       "3                    dark  ...  t1_fooofu0   \n",
       "4                    dark  ...  t1_foocgf0   \n",
       "\n",
       "                                           permalink retrieved_on score  \\\n",
       "0  /r/MLS/comments/g8k6cy/lockdown_is_ideal_time_...   1587953399     1   \n",
       "1  /r/MLS/comments/g8hnfu/mls_and_la_regarding_co...   1587953251     1   \n",
       "2  /r/MLS/comments/g8hnfu/mls_and_la_regarding_co...   1587953183     1   \n",
       "3  /r/MLS/comments/g8fldr/la_mayor_says_no_sporti...   1587953012     1   \n",
       "4  /r/MLS/comments/g8hbru/deandre_yedlin_100_perc...   1587952928     1   \n",
       "\n",
       "  send_replies stickied subreddit  subreddit_id total_awards_received  \\\n",
       "0         True    False       MLS      t5_2rbnb                     0   \n",
       "1         True    False       MLS      t5_2rbnb                     0   \n",
       "2         True    False       MLS      t5_2rbnb                     0   \n",
       "3         True    False       MLS      t5_2rbnb                     0   \n",
       "4         True    False       MLS      t5_2rbnb                     0   \n",
       "\n",
       "   treatment_tags  \n",
       "0              []  \n",
       "1              []  \n",
       "2              []  \n",
       "3              []  \n",
       "4              []  \n",
       "\n",
       "[5 rows x 36 columns]"
      ]
     },
     "execution_count": 22,
     "metadata": {},
     "output_type": "execute_result"
    }
   ],
   "source": [
    "final.head(5)"
   ]
  },
  {
   "cell_type": "markdown",
   "metadata": {},
   "source": [
    "### From the above data frame, 2 columns are needed to procced with our analysis "
   ]
  },
  {
   "cell_type": "code",
   "execution_count": 23,
   "metadata": {},
   "outputs": [
    {
     "data": {
      "text/html": [
       "<div>\n",
       "<style scoped>\n",
       "    .dataframe tbody tr th:only-of-type {\n",
       "        vertical-align: middle;\n",
       "    }\n",
       "\n",
       "    .dataframe tbody tr th {\n",
       "        vertical-align: top;\n",
       "    }\n",
       "\n",
       "    .dataframe thead th {\n",
       "        text-align: right;\n",
       "    }\n",
       "</style>\n",
       "<table border=\"1\" class=\"dataframe\">\n",
       "  <thead>\n",
       "    <tr style=\"text-align: right;\">\n",
       "      <th></th>\n",
       "      <th>subreddit</th>\n",
       "      <th>body</th>\n",
       "    </tr>\n",
       "  </thead>\n",
       "  <tbody>\n",
       "    <tr>\n",
       "      <td>0</td>\n",
       "      <td>MLS</td>\n",
       "      <td>&amp;gt; Go to Club World Cup\\n\\nBut if you win th...</td>\n",
       "    </tr>\n",
       "    <tr>\n",
       "      <td>1</td>\n",
       "      <td>MLS</td>\n",
       "      <td>Should be noted that City of LA and County of ...</td>\n",
       "    </tr>\n",
       "    <tr>\n",
       "      <td>2</td>\n",
       "      <td>MLS</td>\n",
       "      <td>&amp;gt;I don't think sports will be gone, but I'm...</td>\n",
       "    </tr>\n",
       "    <tr>\n",
       "      <td>3</td>\n",
       "      <td>MLS</td>\n",
       "      <td>It's true; if we adopted this treatment in a w...</td>\n",
       "    </tr>\n",
       "    <tr>\n",
       "      <td>4</td>\n",
       "      <td>MLS</td>\n",
       "      <td>that is generally what having speed does</td>\n",
       "    </tr>\n",
       "    <tr>\n",
       "      <td>...</td>\n",
       "      <td>...</td>\n",
       "      <td>...</td>\n",
       "    </tr>\n",
       "    <tr>\n",
       "      <td>1653</td>\n",
       "      <td>nfl</td>\n",
       "      <td>That's a TD every 35 offensive snaps. Pretty i...</td>\n",
       "    </tr>\n",
       "    <tr>\n",
       "      <td>1654</td>\n",
       "      <td>nfl</td>\n",
       "      <td>[deleted]</td>\n",
       "    </tr>\n",
       "    <tr>\n",
       "      <td>1655</td>\n",
       "      <td>nfl</td>\n",
       "      <td>Miami</td>\n",
       "    </tr>\n",
       "    <tr>\n",
       "      <td>1656</td>\n",
       "      <td>nfl</td>\n",
       "      <td>As a state fan...yeah. he'd have his good game...</td>\n",
       "    </tr>\n",
       "    <tr>\n",
       "      <td>1657</td>\n",
       "      <td>nfl</td>\n",
       "      <td>Idk who downvoted you; you're right - silly ty...</td>\n",
       "    </tr>\n",
       "  </tbody>\n",
       "</table>\n",
       "<p>1658 rows × 2 columns</p>\n",
       "</div>"
      ],
      "text/plain": [
       "     subreddit                                               body\n",
       "0          MLS  &gt; Go to Club World Cup\\n\\nBut if you win th...\n",
       "1          MLS  Should be noted that City of LA and County of ...\n",
       "2          MLS  &gt;I don't think sports will be gone, but I'm...\n",
       "3          MLS  It's true; if we adopted this treatment in a w...\n",
       "4          MLS           that is generally what having speed does\n",
       "...        ...                                                ...\n",
       "1653       nfl  That's a TD every 35 offensive snaps. Pretty i...\n",
       "1654       nfl                                          [deleted]\n",
       "1655       nfl                                              Miami\n",
       "1656       nfl  As a state fan...yeah. he'd have his good game...\n",
       "1657       nfl  Idk who downvoted you; you're right - silly ty...\n",
       "\n",
       "[1658 rows x 2 columns]"
      ]
     },
     "execution_count": 23,
     "metadata": {},
     "output_type": "execute_result"
    }
   ],
   "source": [
    "df_sub= final[['subreddit','body']].copy()\n",
    "#df_sub = df_sub['subreddit'].sample(frac=1)\n",
    "df_sub"
   ]
  },
  {
   "cell_type": "code",
   "execution_count": 24,
   "metadata": {},
   "outputs": [
    {
     "data": {
      "text/plain": [
       "0    1\n",
       "1    1\n",
       "2    1\n",
       "3    1\n",
       "4    1\n",
       "Name: subreddit, dtype: int64"
      ]
     },
     "execution_count": 24,
     "metadata": {},
     "output_type": "execute_result"
    }
   ],
   "source": [
    "p={'MLS':1,'nfl':0}\n",
    "df_sub['subreddit']=df_sub['subreddit'].map(p)\n",
    "df_sub['subreddit'].head()"
   ]
  },
  {
   "cell_type": "code",
   "execution_count": 25,
   "metadata": {},
   "outputs": [
    {
     "data": {
      "text/plain": [
       "MLS    0.563932\n",
       "nfl    0.436068\n",
       "Name: subreddit, dtype: float64"
      ]
     },
     "execution_count": 25,
     "metadata": {},
     "output_type": "execute_result"
    }
   ],
   "source": [
    "#final = final.sample(frac=1,random_state=1)\n",
    "final['subreddit'].value_counts(normalize = True)"
   ]
  },
  {
   "cell_type": "code",
   "execution_count": 26,
   "metadata": {},
   "outputs": [
    {
     "data": {
      "text/plain": [
       "1    935\n",
       "0    723\n",
       "Name: subreddit, dtype: int64"
      ]
     },
     "execution_count": 26,
     "metadata": {},
     "output_type": "execute_result"
    }
   ],
   "source": [
    "df_sub['subreddit'].value_counts()"
   ]
  },
  {
   "cell_type": "code",
   "execution_count": 27,
   "metadata": {},
   "outputs": [],
   "source": [
    "X = df_sub['body']\n",
    "y = df_sub['subreddit']"
   ]
  },
  {
   "cell_type": "markdown",
   "metadata": {},
   "source": [
    "#### train - test split of data frame"
   ]
  },
  {
   "cell_type": "code",
   "execution_count": 28,
   "metadata": {},
   "outputs": [],
   "source": [
    "X_train, X_test, y_train, y_test = train_test_split(X,\n",
    "                                                   y,\n",
    "                                                   test_size=0.25,\n",
    "                                                   random_state=42 )"
   ]
  },
  {
   "cell_type": "code",
   "execution_count": 29,
   "metadata": {},
   "outputs": [],
   "source": [
    "from bs4 import BeautifulSoup  \n"
   ]
  },
  {
   "cell_type": "markdown",
   "metadata": {},
   "source": [
    "#### transformin our data into  matric"
   ]
  },
  {
   "cell_type": "code",
   "execution_count": 30,
   "metadata": {},
   "outputs": [
    {
     "data": {
      "text/plain": [
       "array([[0, 0, 0, ..., 0, 0, 0],\n",
       "       [0, 0, 0, ..., 0, 0, 0],\n",
       "       [0, 0, 0, ..., 0, 0, 0],\n",
       "       ...,\n",
       "       [0, 0, 0, ..., 0, 0, 0],\n",
       "       [0, 0, 0, ..., 0, 0, 0],\n",
       "       [0, 0, 0, ..., 0, 0, 0]], dtype=int64)"
      ]
     },
     "execution_count": 30,
     "metadata": {},
     "output_type": "execute_result"
    }
   ],
   "source": [
    "cvec = CountVectorizer()\n",
    "cvec.fit(X_train)\n",
    "cvec.transform(X_train)\n",
    "cvec.transform(X_test).toarray()"
   ]
  },
  {
   "cell_type": "code",
   "execution_count": 31,
   "metadata": {},
   "outputs": [
    {
     "data": {
      "text/plain": [
       "array([[0, 0, 0, ..., 0, 0, 0],\n",
       "       [0, 0, 0, ..., 0, 0, 0],\n",
       "       [0, 0, 0, ..., 0, 0, 0],\n",
       "       ...,\n",
       "       [0, 0, 0, ..., 0, 0, 0],\n",
       "       [0, 0, 0, ..., 0, 0, 0],\n",
       "       [0, 0, 0, ..., 0, 0, 0]], dtype=int64)"
      ]
     },
     "execution_count": 31,
     "metadata": {},
     "output_type": "execute_result"
    }
   ],
   "source": [
    "cvec.transform(X_train).toarray()"
   ]
  },
  {
   "cell_type": "code",
   "execution_count": 32,
   "metadata": {},
   "outputs": [
    {
     "data": {
      "text/html": [
       "<div>\n",
       "<style scoped>\n",
       "    .dataframe tbody tr th:only-of-type {\n",
       "        vertical-align: middle;\n",
       "    }\n",
       "\n",
       "    .dataframe tbody tr th {\n",
       "        vertical-align: top;\n",
       "    }\n",
       "\n",
       "    .dataframe thead th {\n",
       "        text-align: right;\n",
       "    }\n",
       "</style>\n",
       "<table border=\"1\" class=\"dataframe\">\n",
       "  <thead>\n",
       "    <tr style=\"text-align: right;\">\n",
       "      <th></th>\n",
       "      <th>000</th>\n",
       "      <th>001</th>\n",
       "      <th>00s</th>\n",
       "      <th>01</th>\n",
       "      <th>03</th>\n",
       "      <th>04</th>\n",
       "      <th>05</th>\n",
       "      <th>06</th>\n",
       "      <th>10</th>\n",
       "      <th>100</th>\n",
       "      <th>...</th>\n",
       "      <th>zealand</th>\n",
       "      <th>zenit</th>\n",
       "      <th>zero</th>\n",
       "      <th>zhge</th>\n",
       "      <th>zibikowski</th>\n",
       "      <th>zlatan</th>\n",
       "      <th>zone</th>\n",
       "      <th>zt2opf</th>\n",
       "      <th>zucc</th>\n",
       "      <th>zuckerbutt</th>\n",
       "    </tr>\n",
       "  </thead>\n",
       "  <tbody>\n",
       "    <tr>\n",
       "      <td>0</td>\n",
       "      <td>0</td>\n",
       "      <td>0</td>\n",
       "      <td>0</td>\n",
       "      <td>0</td>\n",
       "      <td>0</td>\n",
       "      <td>0</td>\n",
       "      <td>0</td>\n",
       "      <td>0</td>\n",
       "      <td>0</td>\n",
       "      <td>0</td>\n",
       "      <td>...</td>\n",
       "      <td>0</td>\n",
       "      <td>0</td>\n",
       "      <td>0</td>\n",
       "      <td>0</td>\n",
       "      <td>0</td>\n",
       "      <td>0</td>\n",
       "      <td>0</td>\n",
       "      <td>0</td>\n",
       "      <td>0</td>\n",
       "      <td>0</td>\n",
       "    </tr>\n",
       "    <tr>\n",
       "      <td>1</td>\n",
       "      <td>0</td>\n",
       "      <td>0</td>\n",
       "      <td>0</td>\n",
       "      <td>0</td>\n",
       "      <td>0</td>\n",
       "      <td>0</td>\n",
       "      <td>0</td>\n",
       "      <td>0</td>\n",
       "      <td>0</td>\n",
       "      <td>0</td>\n",
       "      <td>...</td>\n",
       "      <td>0</td>\n",
       "      <td>0</td>\n",
       "      <td>0</td>\n",
       "      <td>0</td>\n",
       "      <td>0</td>\n",
       "      <td>0</td>\n",
       "      <td>0</td>\n",
       "      <td>0</td>\n",
       "      <td>0</td>\n",
       "      <td>0</td>\n",
       "    </tr>\n",
       "    <tr>\n",
       "      <td>2</td>\n",
       "      <td>0</td>\n",
       "      <td>0</td>\n",
       "      <td>0</td>\n",
       "      <td>0</td>\n",
       "      <td>0</td>\n",
       "      <td>0</td>\n",
       "      <td>0</td>\n",
       "      <td>0</td>\n",
       "      <td>0</td>\n",
       "      <td>0</td>\n",
       "      <td>...</td>\n",
       "      <td>0</td>\n",
       "      <td>0</td>\n",
       "      <td>0</td>\n",
       "      <td>0</td>\n",
       "      <td>0</td>\n",
       "      <td>0</td>\n",
       "      <td>0</td>\n",
       "      <td>0</td>\n",
       "      <td>0</td>\n",
       "      <td>0</td>\n",
       "    </tr>\n",
       "    <tr>\n",
       "      <td>3</td>\n",
       "      <td>0</td>\n",
       "      <td>0</td>\n",
       "      <td>0</td>\n",
       "      <td>0</td>\n",
       "      <td>0</td>\n",
       "      <td>0</td>\n",
       "      <td>0</td>\n",
       "      <td>0</td>\n",
       "      <td>0</td>\n",
       "      <td>0</td>\n",
       "      <td>...</td>\n",
       "      <td>0</td>\n",
       "      <td>0</td>\n",
       "      <td>0</td>\n",
       "      <td>0</td>\n",
       "      <td>0</td>\n",
       "      <td>0</td>\n",
       "      <td>0</td>\n",
       "      <td>0</td>\n",
       "      <td>0</td>\n",
       "      <td>0</td>\n",
       "    </tr>\n",
       "    <tr>\n",
       "      <td>4</td>\n",
       "      <td>1</td>\n",
       "      <td>0</td>\n",
       "      <td>0</td>\n",
       "      <td>0</td>\n",
       "      <td>0</td>\n",
       "      <td>0</td>\n",
       "      <td>0</td>\n",
       "      <td>0</td>\n",
       "      <td>0</td>\n",
       "      <td>0</td>\n",
       "      <td>...</td>\n",
       "      <td>0</td>\n",
       "      <td>0</td>\n",
       "      <td>0</td>\n",
       "      <td>0</td>\n",
       "      <td>0</td>\n",
       "      <td>0</td>\n",
       "      <td>0</td>\n",
       "      <td>0</td>\n",
       "      <td>0</td>\n",
       "      <td>0</td>\n",
       "    </tr>\n",
       "    <tr>\n",
       "      <td>...</td>\n",
       "      <td>...</td>\n",
       "      <td>...</td>\n",
       "      <td>...</td>\n",
       "      <td>...</td>\n",
       "      <td>...</td>\n",
       "      <td>...</td>\n",
       "      <td>...</td>\n",
       "      <td>...</td>\n",
       "      <td>...</td>\n",
       "      <td>...</td>\n",
       "      <td>...</td>\n",
       "      <td>...</td>\n",
       "      <td>...</td>\n",
       "      <td>...</td>\n",
       "      <td>...</td>\n",
       "      <td>...</td>\n",
       "      <td>...</td>\n",
       "      <td>...</td>\n",
       "      <td>...</td>\n",
       "      <td>...</td>\n",
       "      <td>...</td>\n",
       "    </tr>\n",
       "    <tr>\n",
       "      <td>1238</td>\n",
       "      <td>0</td>\n",
       "      <td>0</td>\n",
       "      <td>0</td>\n",
       "      <td>0</td>\n",
       "      <td>0</td>\n",
       "      <td>0</td>\n",
       "      <td>0</td>\n",
       "      <td>0</td>\n",
       "      <td>0</td>\n",
       "      <td>0</td>\n",
       "      <td>...</td>\n",
       "      <td>0</td>\n",
       "      <td>0</td>\n",
       "      <td>0</td>\n",
       "      <td>0</td>\n",
       "      <td>0</td>\n",
       "      <td>0</td>\n",
       "      <td>0</td>\n",
       "      <td>0</td>\n",
       "      <td>0</td>\n",
       "      <td>0</td>\n",
       "    </tr>\n",
       "    <tr>\n",
       "      <td>1239</td>\n",
       "      <td>0</td>\n",
       "      <td>0</td>\n",
       "      <td>0</td>\n",
       "      <td>0</td>\n",
       "      <td>0</td>\n",
       "      <td>0</td>\n",
       "      <td>0</td>\n",
       "      <td>0</td>\n",
       "      <td>0</td>\n",
       "      <td>0</td>\n",
       "      <td>...</td>\n",
       "      <td>0</td>\n",
       "      <td>0</td>\n",
       "      <td>0</td>\n",
       "      <td>0</td>\n",
       "      <td>0</td>\n",
       "      <td>0</td>\n",
       "      <td>0</td>\n",
       "      <td>0</td>\n",
       "      <td>0</td>\n",
       "      <td>0</td>\n",
       "    </tr>\n",
       "    <tr>\n",
       "      <td>1240</td>\n",
       "      <td>0</td>\n",
       "      <td>0</td>\n",
       "      <td>0</td>\n",
       "      <td>0</td>\n",
       "      <td>0</td>\n",
       "      <td>0</td>\n",
       "      <td>0</td>\n",
       "      <td>0</td>\n",
       "      <td>0</td>\n",
       "      <td>0</td>\n",
       "      <td>...</td>\n",
       "      <td>0</td>\n",
       "      <td>0</td>\n",
       "      <td>0</td>\n",
       "      <td>0</td>\n",
       "      <td>0</td>\n",
       "      <td>0</td>\n",
       "      <td>0</td>\n",
       "      <td>0</td>\n",
       "      <td>0</td>\n",
       "      <td>0</td>\n",
       "    </tr>\n",
       "    <tr>\n",
       "      <td>1241</td>\n",
       "      <td>0</td>\n",
       "      <td>0</td>\n",
       "      <td>0</td>\n",
       "      <td>0</td>\n",
       "      <td>0</td>\n",
       "      <td>0</td>\n",
       "      <td>0</td>\n",
       "      <td>0</td>\n",
       "      <td>0</td>\n",
       "      <td>0</td>\n",
       "      <td>...</td>\n",
       "      <td>0</td>\n",
       "      <td>0</td>\n",
       "      <td>0</td>\n",
       "      <td>0</td>\n",
       "      <td>0</td>\n",
       "      <td>0</td>\n",
       "      <td>0</td>\n",
       "      <td>0</td>\n",
       "      <td>0</td>\n",
       "      <td>0</td>\n",
       "    </tr>\n",
       "    <tr>\n",
       "      <td>1242</td>\n",
       "      <td>0</td>\n",
       "      <td>0</td>\n",
       "      <td>0</td>\n",
       "      <td>0</td>\n",
       "      <td>0</td>\n",
       "      <td>0</td>\n",
       "      <td>0</td>\n",
       "      <td>0</td>\n",
       "      <td>0</td>\n",
       "      <td>0</td>\n",
       "      <td>...</td>\n",
       "      <td>0</td>\n",
       "      <td>0</td>\n",
       "      <td>0</td>\n",
       "      <td>0</td>\n",
       "      <td>0</td>\n",
       "      <td>0</td>\n",
       "      <td>0</td>\n",
       "      <td>0</td>\n",
       "      <td>0</td>\n",
       "      <td>0</td>\n",
       "    </tr>\n",
       "  </tbody>\n",
       "</table>\n",
       "<p>1243 rows × 5317 columns</p>\n",
       "</div>"
      ],
      "text/plain": [
       "      000  001  00s  01  03  04  05  06  10  100  ...  zealand  zenit  zero  \\\n",
       "0       0    0    0   0   0   0   0   0   0    0  ...        0      0     0   \n",
       "1       0    0    0   0   0   0   0   0   0    0  ...        0      0     0   \n",
       "2       0    0    0   0   0   0   0   0   0    0  ...        0      0     0   \n",
       "3       0    0    0   0   0   0   0   0   0    0  ...        0      0     0   \n",
       "4       1    0    0   0   0   0   0   0   0    0  ...        0      0     0   \n",
       "...   ...  ...  ...  ..  ..  ..  ..  ..  ..  ...  ...      ...    ...   ...   \n",
       "1238    0    0    0   0   0   0   0   0   0    0  ...        0      0     0   \n",
       "1239    0    0    0   0   0   0   0   0   0    0  ...        0      0     0   \n",
       "1240    0    0    0   0   0   0   0   0   0    0  ...        0      0     0   \n",
       "1241    0    0    0   0   0   0   0   0   0    0  ...        0      0     0   \n",
       "1242    0    0    0   0   0   0   0   0   0    0  ...        0      0     0   \n",
       "\n",
       "      zhge  zibikowski  zlatan  zone  zt2opf  zucc  zuckerbutt  \n",
       "0        0           0       0     0       0     0           0  \n",
       "1        0           0       0     0       0     0           0  \n",
       "2        0           0       0     0       0     0           0  \n",
       "3        0           0       0     0       0     0           0  \n",
       "4        0           0       0     0       0     0           0  \n",
       "...    ...         ...     ...   ...     ...   ...         ...  \n",
       "1238     0           0       0     0       0     0           0  \n",
       "1239     0           0       0     0       0     0           0  \n",
       "1240     0           0       0     0       0     0           0  \n",
       "1241     0           0       0     0       0     0           0  \n",
       "1242     0           0       0     0       0     0           0  \n",
       "\n",
       "[1243 rows x 5317 columns]"
      ]
     },
     "execution_count": 32,
     "metadata": {},
     "output_type": "execute_result"
    }
   ],
   "source": [
    "X_df = pd.DataFrame(cvec.transform(X_train).todense(),\n",
    "                         columns=cvec.get_feature_names())\n",
    "X_df "
   ]
  },
  {
   "cell_type": "code",
   "execution_count": 33,
   "metadata": {},
   "outputs": [
    {
     "name": "stdout",
     "output_type": "stream",
     "text": [
      "the     1669\n",
      "to       905\n",
      "and      796\n",
      "of       634\n",
      "in       595\n",
      "that     561\n",
      "is       534\n",
      "it       502\n",
      "for      343\n",
      "you      328\n",
      "dtype: int64\n"
     ]
    }
   ],
   "source": [
    "print(X_df.sum().sort_values(ascending=False).head(10))"
   ]
  },
  {
   "cell_type": "markdown",
   "metadata": {},
   "source": [
    "#### stopwords to eliminer "
   ]
  },
  {
   "cell_type": "code",
   "execution_count": 34,
   "metadata": {},
   "outputs": [
    {
     "data": {
      "text/plain": [
       "Index(['000', '001', '00s', '01', '03', '04', '05', '06', '10', '100',\n",
       "       ...\n",
       "       'zealand', 'zenit', 'zero', 'zhge', 'zibikowski', 'zlatan', 'zone',\n",
       "       'zt2opf', 'zucc', 'zuckerbutt'],\n",
       "      dtype='object', length=5317)"
      ]
     },
     "execution_count": 34,
     "metadata": {},
     "output_type": "execute_result"
    }
   ],
   "source": [
    "X_df.columns # checking the columns of vectorized dataframe "
   ]
  },
  {
   "cell_type": "markdown",
   "metadata": {},
   "source": [
    "Another round of the countvectorizer with stopword argument "
   ]
  },
  {
   "cell_type": "code",
   "execution_count": 35,
   "metadata": {},
   "outputs": [
    {
     "data": {
      "text/plain": [
       "<415x5060 sparse matrix of type '<class 'numpy.int64'>'\n",
       "\twith 4147 stored elements in Compressed Sparse Row format>"
      ]
     },
     "execution_count": 35,
     "metadata": {},
     "output_type": "execute_result"
    }
   ],
   "source": [
    "cvec = CountVectorizer(binary=True, stop_words= 'english',analyzer = \"word\")\n",
    "cvec.fit(X_train)\n",
    "cvec.transform(X_train)\n",
    "cvec.transform(X_train).toarray()\n",
    "cvec.transform(X_test)\n"
   ]
  },
  {
   "cell_type": "code",
   "execution_count": 36,
   "metadata": {},
   "outputs": [
    {
     "data": {
      "text/html": [
       "<div>\n",
       "<style scoped>\n",
       "    .dataframe tbody tr th:only-of-type {\n",
       "        vertical-align: middle;\n",
       "    }\n",
       "\n",
       "    .dataframe tbody tr th {\n",
       "        vertical-align: top;\n",
       "    }\n",
       "\n",
       "    .dataframe thead th {\n",
       "        text-align: right;\n",
       "    }\n",
       "</style>\n",
       "<table border=\"1\" class=\"dataframe\">\n",
       "  <thead>\n",
       "    <tr style=\"text-align: right;\">\n",
       "      <th></th>\n",
       "      <th>000</th>\n",
       "      <th>001</th>\n",
       "      <th>00s</th>\n",
       "      <th>01</th>\n",
       "      <th>03</th>\n",
       "      <th>04</th>\n",
       "      <th>05</th>\n",
       "      <th>06</th>\n",
       "      <th>10</th>\n",
       "      <th>100</th>\n",
       "      <th>...</th>\n",
       "      <th>zealand</th>\n",
       "      <th>zenit</th>\n",
       "      <th>zero</th>\n",
       "      <th>zhge</th>\n",
       "      <th>zibikowski</th>\n",
       "      <th>zlatan</th>\n",
       "      <th>zone</th>\n",
       "      <th>zt2opf</th>\n",
       "      <th>zucc</th>\n",
       "      <th>zuckerbutt</th>\n",
       "    </tr>\n",
       "  </thead>\n",
       "  <tbody>\n",
       "    <tr>\n",
       "      <td>0</td>\n",
       "      <td>0</td>\n",
       "      <td>0</td>\n",
       "      <td>0</td>\n",
       "      <td>0</td>\n",
       "      <td>0</td>\n",
       "      <td>0</td>\n",
       "      <td>0</td>\n",
       "      <td>0</td>\n",
       "      <td>0</td>\n",
       "      <td>0</td>\n",
       "      <td>...</td>\n",
       "      <td>0</td>\n",
       "      <td>0</td>\n",
       "      <td>0</td>\n",
       "      <td>0</td>\n",
       "      <td>0</td>\n",
       "      <td>0</td>\n",
       "      <td>0</td>\n",
       "      <td>0</td>\n",
       "      <td>0</td>\n",
       "      <td>0</td>\n",
       "    </tr>\n",
       "    <tr>\n",
       "      <td>1</td>\n",
       "      <td>0</td>\n",
       "      <td>0</td>\n",
       "      <td>0</td>\n",
       "      <td>0</td>\n",
       "      <td>0</td>\n",
       "      <td>0</td>\n",
       "      <td>0</td>\n",
       "      <td>0</td>\n",
       "      <td>0</td>\n",
       "      <td>0</td>\n",
       "      <td>...</td>\n",
       "      <td>0</td>\n",
       "      <td>0</td>\n",
       "      <td>0</td>\n",
       "      <td>0</td>\n",
       "      <td>0</td>\n",
       "      <td>0</td>\n",
       "      <td>0</td>\n",
       "      <td>0</td>\n",
       "      <td>0</td>\n",
       "      <td>0</td>\n",
       "    </tr>\n",
       "    <tr>\n",
       "      <td>2</td>\n",
       "      <td>0</td>\n",
       "      <td>0</td>\n",
       "      <td>0</td>\n",
       "      <td>0</td>\n",
       "      <td>0</td>\n",
       "      <td>0</td>\n",
       "      <td>0</td>\n",
       "      <td>0</td>\n",
       "      <td>0</td>\n",
       "      <td>0</td>\n",
       "      <td>...</td>\n",
       "      <td>0</td>\n",
       "      <td>0</td>\n",
       "      <td>0</td>\n",
       "      <td>0</td>\n",
       "      <td>0</td>\n",
       "      <td>0</td>\n",
       "      <td>0</td>\n",
       "      <td>0</td>\n",
       "      <td>0</td>\n",
       "      <td>0</td>\n",
       "    </tr>\n",
       "    <tr>\n",
       "      <td>3</td>\n",
       "      <td>0</td>\n",
       "      <td>0</td>\n",
       "      <td>0</td>\n",
       "      <td>0</td>\n",
       "      <td>0</td>\n",
       "      <td>0</td>\n",
       "      <td>0</td>\n",
       "      <td>0</td>\n",
       "      <td>0</td>\n",
       "      <td>0</td>\n",
       "      <td>...</td>\n",
       "      <td>0</td>\n",
       "      <td>0</td>\n",
       "      <td>0</td>\n",
       "      <td>0</td>\n",
       "      <td>0</td>\n",
       "      <td>0</td>\n",
       "      <td>0</td>\n",
       "      <td>0</td>\n",
       "      <td>0</td>\n",
       "      <td>0</td>\n",
       "    </tr>\n",
       "    <tr>\n",
       "      <td>4</td>\n",
       "      <td>1</td>\n",
       "      <td>0</td>\n",
       "      <td>0</td>\n",
       "      <td>0</td>\n",
       "      <td>0</td>\n",
       "      <td>0</td>\n",
       "      <td>0</td>\n",
       "      <td>0</td>\n",
       "      <td>0</td>\n",
       "      <td>0</td>\n",
       "      <td>...</td>\n",
       "      <td>0</td>\n",
       "      <td>0</td>\n",
       "      <td>0</td>\n",
       "      <td>0</td>\n",
       "      <td>0</td>\n",
       "      <td>0</td>\n",
       "      <td>0</td>\n",
       "      <td>0</td>\n",
       "      <td>0</td>\n",
       "      <td>0</td>\n",
       "    </tr>\n",
       "    <tr>\n",
       "      <td>...</td>\n",
       "      <td>...</td>\n",
       "      <td>...</td>\n",
       "      <td>...</td>\n",
       "      <td>...</td>\n",
       "      <td>...</td>\n",
       "      <td>...</td>\n",
       "      <td>...</td>\n",
       "      <td>...</td>\n",
       "      <td>...</td>\n",
       "      <td>...</td>\n",
       "      <td>...</td>\n",
       "      <td>...</td>\n",
       "      <td>...</td>\n",
       "      <td>...</td>\n",
       "      <td>...</td>\n",
       "      <td>...</td>\n",
       "      <td>...</td>\n",
       "      <td>...</td>\n",
       "      <td>...</td>\n",
       "      <td>...</td>\n",
       "      <td>...</td>\n",
       "    </tr>\n",
       "    <tr>\n",
       "      <td>1238</td>\n",
       "      <td>0</td>\n",
       "      <td>0</td>\n",
       "      <td>0</td>\n",
       "      <td>0</td>\n",
       "      <td>0</td>\n",
       "      <td>0</td>\n",
       "      <td>0</td>\n",
       "      <td>0</td>\n",
       "      <td>0</td>\n",
       "      <td>0</td>\n",
       "      <td>...</td>\n",
       "      <td>0</td>\n",
       "      <td>0</td>\n",
       "      <td>0</td>\n",
       "      <td>0</td>\n",
       "      <td>0</td>\n",
       "      <td>0</td>\n",
       "      <td>0</td>\n",
       "      <td>0</td>\n",
       "      <td>0</td>\n",
       "      <td>0</td>\n",
       "    </tr>\n",
       "    <tr>\n",
       "      <td>1239</td>\n",
       "      <td>0</td>\n",
       "      <td>0</td>\n",
       "      <td>0</td>\n",
       "      <td>0</td>\n",
       "      <td>0</td>\n",
       "      <td>0</td>\n",
       "      <td>0</td>\n",
       "      <td>0</td>\n",
       "      <td>0</td>\n",
       "      <td>0</td>\n",
       "      <td>...</td>\n",
       "      <td>0</td>\n",
       "      <td>0</td>\n",
       "      <td>0</td>\n",
       "      <td>0</td>\n",
       "      <td>0</td>\n",
       "      <td>0</td>\n",
       "      <td>0</td>\n",
       "      <td>0</td>\n",
       "      <td>0</td>\n",
       "      <td>0</td>\n",
       "    </tr>\n",
       "    <tr>\n",
       "      <td>1240</td>\n",
       "      <td>0</td>\n",
       "      <td>0</td>\n",
       "      <td>0</td>\n",
       "      <td>0</td>\n",
       "      <td>0</td>\n",
       "      <td>0</td>\n",
       "      <td>0</td>\n",
       "      <td>0</td>\n",
       "      <td>0</td>\n",
       "      <td>0</td>\n",
       "      <td>...</td>\n",
       "      <td>0</td>\n",
       "      <td>0</td>\n",
       "      <td>0</td>\n",
       "      <td>0</td>\n",
       "      <td>0</td>\n",
       "      <td>0</td>\n",
       "      <td>0</td>\n",
       "      <td>0</td>\n",
       "      <td>0</td>\n",
       "      <td>0</td>\n",
       "    </tr>\n",
       "    <tr>\n",
       "      <td>1241</td>\n",
       "      <td>0</td>\n",
       "      <td>0</td>\n",
       "      <td>0</td>\n",
       "      <td>0</td>\n",
       "      <td>0</td>\n",
       "      <td>0</td>\n",
       "      <td>0</td>\n",
       "      <td>0</td>\n",
       "      <td>0</td>\n",
       "      <td>0</td>\n",
       "      <td>...</td>\n",
       "      <td>0</td>\n",
       "      <td>0</td>\n",
       "      <td>0</td>\n",
       "      <td>0</td>\n",
       "      <td>0</td>\n",
       "      <td>0</td>\n",
       "      <td>0</td>\n",
       "      <td>0</td>\n",
       "      <td>0</td>\n",
       "      <td>0</td>\n",
       "    </tr>\n",
       "    <tr>\n",
       "      <td>1242</td>\n",
       "      <td>0</td>\n",
       "      <td>0</td>\n",
       "      <td>0</td>\n",
       "      <td>0</td>\n",
       "      <td>0</td>\n",
       "      <td>0</td>\n",
       "      <td>0</td>\n",
       "      <td>0</td>\n",
       "      <td>0</td>\n",
       "      <td>0</td>\n",
       "      <td>...</td>\n",
       "      <td>0</td>\n",
       "      <td>0</td>\n",
       "      <td>0</td>\n",
       "      <td>0</td>\n",
       "      <td>0</td>\n",
       "      <td>0</td>\n",
       "      <td>0</td>\n",
       "      <td>0</td>\n",
       "      <td>0</td>\n",
       "      <td>0</td>\n",
       "    </tr>\n",
       "  </tbody>\n",
       "</table>\n",
       "<p>1243 rows × 5060 columns</p>\n",
       "</div>"
      ],
      "text/plain": [
       "      000  001  00s  01  03  04  05  06  10  100  ...  zealand  zenit  zero  \\\n",
       "0       0    0    0   0   0   0   0   0   0    0  ...        0      0     0   \n",
       "1       0    0    0   0   0   0   0   0   0    0  ...        0      0     0   \n",
       "2       0    0    0   0   0   0   0   0   0    0  ...        0      0     0   \n",
       "3       0    0    0   0   0   0   0   0   0    0  ...        0      0     0   \n",
       "4       1    0    0   0   0   0   0   0   0    0  ...        0      0     0   \n",
       "...   ...  ...  ...  ..  ..  ..  ..  ..  ..  ...  ...      ...    ...   ...   \n",
       "1238    0    0    0   0   0   0   0   0   0    0  ...        0      0     0   \n",
       "1239    0    0    0   0   0   0   0   0   0    0  ...        0      0     0   \n",
       "1240    0    0    0   0   0   0   0   0   0    0  ...        0      0     0   \n",
       "1241    0    0    0   0   0   0   0   0   0    0  ...        0      0     0   \n",
       "1242    0    0    0   0   0   0   0   0   0    0  ...        0      0     0   \n",
       "\n",
       "      zhge  zibikowski  zlatan  zone  zt2opf  zucc  zuckerbutt  \n",
       "0        0           0       0     0       0     0           0  \n",
       "1        0           0       0     0       0     0           0  \n",
       "2        0           0       0     0       0     0           0  \n",
       "3        0           0       0     0       0     0           0  \n",
       "4        0           0       0     0       0     0           0  \n",
       "...    ...         ...     ...   ...     ...   ...         ...  \n",
       "1238     0           0       0     0       0     0           0  \n",
       "1239     0           0       0     0       0     0           0  \n",
       "1240     0           0       0     0       0     0           0  \n",
       "1241     0           0       0     0       0     0           0  \n",
       "1242     0           0       0     0       0     0           0  \n",
       "\n",
       "[1243 rows x 5060 columns]"
      ]
     },
     "execution_count": 36,
     "metadata": {},
     "output_type": "execute_result"
    }
   ],
   "source": [
    "X_df = pd.DataFrame(cvec.transform(X_train).todense(),\n",
    "                         columns=cvec.get_feature_names())\n",
    "X_df"
   ]
  },
  {
   "cell_type": "code",
   "execution_count": 37,
   "metadata": {},
   "outputs": [
    {
     "data": {
      "text/plain": [
       "Index(['000', '001', '00s', '01', '03', '04', '05', '06', '10', '100',\n",
       "       ...\n",
       "       'zealand', 'zenit', 'zero', 'zhge', 'zibikowski', 'zlatan', 'zone',\n",
       "       'zt2opf', 'zucc', 'zuckerbutt'],\n",
       "      dtype='object', length=5060)"
      ]
     },
     "execution_count": 37,
     "metadata": {},
     "output_type": "execute_result"
    }
   ],
   "source": [
    "X_df.columns "
   ]
  },
  {
   "cell_type": "markdown",
   "metadata": {},
   "source": [
    "#vocab = cvec.get_feature_names() \n",
    "### Word cleaning function "
   ]
  },
  {
   "cell_type": "code",
   "execution_count": 38,
   "metadata": {},
   "outputs": [],
   "source": [
    "import nltk\n",
    "import regex as re\n",
    "from nltk.tokenize import RegexpTokenizer"
   ]
  },
  {
   "cell_type": "code",
   "execution_count": 39,
   "metadata": {},
   "outputs": [],
   "source": [
    "def comment_cleaning(raw_review):\n",
    "    tokenizer = RegexpTokenizer(r'\\w+')\n",
    "    stemmer = PorterStemmer() \n",
    "    review_text = BeautifulSoup(raw_review)\n",
    "    letters_only = re.sub(\"[^a-zA-Z]\", \" \", review_text.get_text())\n",
    "    words =tokenizer.tokenize( letters_only.lower())#letters_only.lower().split()\n",
    "    stops = set(stopwords.words('english'))\n",
    "    meaningful_words = [stemmer.stem(w.strip()) for w in words if not w in stops]\n",
    "    return(\" \".join(meaningful_words))"
   ]
  },
  {
   "cell_type": "code",
   "execution_count": 40,
   "metadata": {},
   "outputs": [],
   "source": [
    "X_train_df = [] # clean train data and ready to be used \n",
    "X_test_df = []  #  clean test data and ready to be clean "
   ]
  },
  {
   "cell_type": "code",
   "execution_count": 41,
   "metadata": {},
   "outputs": [],
   "source": [
    "import warnings\n",
    "warnings.filterwarnings(\"ignore\")\n",
    "for comment in X_train: # looping through the parent dataset to clean up the data set \n",
    "    X_train_df.append(comment_cleaning(comment))\n",
    "for comments in X_test:\n",
    "    X_test_df.append(comment_cleaning(comments))"
   ]
  },
  {
   "cell_type": "markdown",
   "metadata": {},
   "source": [
    "### clean data frame"
   ]
  },
  {
   "cell_type": "code",
   "execution_count": 42,
   "metadata": {},
   "outputs": [
    {
     "data": {
      "text/html": [
       "<div>\n",
       "<style scoped>\n",
       "    .dataframe tbody tr th:only-of-type {\n",
       "        vertical-align: middle;\n",
       "    }\n",
       "\n",
       "    .dataframe tbody tr th {\n",
       "        vertical-align: top;\n",
       "    }\n",
       "\n",
       "    .dataframe thead th {\n",
       "        text-align: right;\n",
       "    }\n",
       "</style>\n",
       "<table border=\"1\" class=\"dataframe\">\n",
       "  <thead>\n",
       "    <tr style=\"text-align: right;\">\n",
       "      <th></th>\n",
       "      <th>comment</th>\n",
       "    </tr>\n",
       "  </thead>\n",
       "  <tbody>\n",
       "    <tr>\n",
       "      <td>0</td>\n",
       "      <td>think fan go allow back game leagu around worl...</td>\n",
       "    </tr>\n",
       "    <tr>\n",
       "      <td>1</td>\n",
       "      <td>remov</td>\n",
       "    </tr>\n",
       "    <tr>\n",
       "      <td>2</td>\n",
       "      <td>ml player would never abl play brazil ml team ...</td>\n",
       "    </tr>\n",
       "    <tr>\n",
       "      <td>3</td>\n",
       "      <td>better seafood imagin</td>\n",
       "    </tr>\n",
       "    <tr>\n",
       "      <td>4</td>\n",
       "      <td>singular death time anyth peopl die unless som...</td>\n",
       "    </tr>\n",
       "    <tr>\n",
       "      <td>...</td>\n",
       "      <td>...</td>\n",
       "    </tr>\n",
       "    <tr>\n",
       "      <td>1238</td>\n",
       "      <td>nah dont realli want one rn feel weird put eff...</td>\n",
       "    </tr>\n",
       "    <tr>\n",
       "      <td>1239</td>\n",
       "      <td>make er fan look bad er fan sinc kap join team...</td>\n",
       "    </tr>\n",
       "    <tr>\n",
       "      <td>1240</td>\n",
       "      <td>never heard new england flag</td>\n",
       "    </tr>\n",
       "    <tr>\n",
       "      <td>1241</td>\n",
       "      <td>guy buc</td>\n",
       "    </tr>\n",
       "    <tr>\n",
       "      <td>1242</td>\n",
       "      <td>evid suggest go case</td>\n",
       "    </tr>\n",
       "  </tbody>\n",
       "</table>\n",
       "<p>1243 rows × 1 columns</p>\n",
       "</div>"
      ],
      "text/plain": [
       "                                                comment\n",
       "0     think fan go allow back game leagu around worl...\n",
       "1                                                 remov\n",
       "2     ml player would never abl play brazil ml team ...\n",
       "3                                 better seafood imagin\n",
       "4     singular death time anyth peopl die unless som...\n",
       "...                                                 ...\n",
       "1238  nah dont realli want one rn feel weird put eff...\n",
       "1239  make er fan look bad er fan sinc kap join team...\n",
       "1240                       never heard new england flag\n",
       "1241                                            guy buc\n",
       "1242                               evid suggest go case\n",
       "\n",
       "[1243 rows x 1 columns]"
      ]
     },
     "execution_count": 42,
     "metadata": {},
     "output_type": "execute_result"
    }
   ],
   "source": [
    "\n",
    "X_final = pd.DataFrame({'comment': X_train_df})\n",
    "X_final"
   ]
  },
  {
   "cell_type": "code",
   "execution_count": 43,
   "metadata": {},
   "outputs": [],
   "source": [
    "#vocab = cvec.get_feature_names()"
   ]
  },
  {
   "cell_type": "code",
   "execution_count": 44,
   "metadata": {},
   "outputs": [
    {
     "data": {
      "text/plain": [
       "<415x3858 sparse matrix of type '<class 'numpy.int64'>'\n",
       "\twith 3190 stored elements in Compressed Sparse Row format>"
      ]
     },
     "execution_count": 44,
     "metadata": {},
     "output_type": "execute_result"
    }
   ],
   "source": [
    "cvec = CountVectorizer()\n",
    "cvec.fit(X_train_df)\n",
    "cvec.transform(X_train_df)\n",
    "cvec.transform(X_test)"
   ]
  },
  {
   "cell_type": "code",
   "execution_count": 45,
   "metadata": {},
   "outputs": [
    {
     "data": {
      "text/html": [
       "<div>\n",
       "<style scoped>\n",
       "    .dataframe tbody tr th:only-of-type {\n",
       "        vertical-align: middle;\n",
       "    }\n",
       "\n",
       "    .dataframe tbody tr th {\n",
       "        vertical-align: top;\n",
       "    }\n",
       "\n",
       "    .dataframe thead th {\n",
       "        text-align: right;\n",
       "    }\n",
       "</style>\n",
       "<table border=\"1\" class=\"dataframe\">\n",
       "  <thead>\n",
       "    <tr style=\"text-align: right;\">\n",
       "      <th></th>\n",
       "      <th>aaron</th>\n",
       "      <th>abandon</th>\n",
       "      <th>abbrevi</th>\n",
       "      <th>abe</th>\n",
       "      <th>abil</th>\n",
       "      <th>abl</th>\n",
       "      <th>absolut</th>\n",
       "      <th>absolutist</th>\n",
       "      <th>absurd</th>\n",
       "      <th>abus</th>\n",
       "      <th>...</th>\n",
       "      <th>zealand</th>\n",
       "      <th>zenit</th>\n",
       "      <th>zero</th>\n",
       "      <th>zhge</th>\n",
       "      <th>zibikowski</th>\n",
       "      <th>zlatan</th>\n",
       "      <th>zone</th>\n",
       "      <th>zt</th>\n",
       "      <th>zucc</th>\n",
       "      <th>zuckerbutt</th>\n",
       "    </tr>\n",
       "  </thead>\n",
       "  <tbody>\n",
       "    <tr>\n",
       "      <td>0</td>\n",
       "      <td>0</td>\n",
       "      <td>0</td>\n",
       "      <td>0</td>\n",
       "      <td>0</td>\n",
       "      <td>0</td>\n",
       "      <td>0</td>\n",
       "      <td>0</td>\n",
       "      <td>0</td>\n",
       "      <td>0</td>\n",
       "      <td>0</td>\n",
       "      <td>...</td>\n",
       "      <td>0</td>\n",
       "      <td>0</td>\n",
       "      <td>0</td>\n",
       "      <td>0</td>\n",
       "      <td>0</td>\n",
       "      <td>0</td>\n",
       "      <td>0</td>\n",
       "      <td>0</td>\n",
       "      <td>0</td>\n",
       "      <td>0</td>\n",
       "    </tr>\n",
       "    <tr>\n",
       "      <td>1</td>\n",
       "      <td>0</td>\n",
       "      <td>0</td>\n",
       "      <td>0</td>\n",
       "      <td>0</td>\n",
       "      <td>0</td>\n",
       "      <td>0</td>\n",
       "      <td>0</td>\n",
       "      <td>0</td>\n",
       "      <td>0</td>\n",
       "      <td>0</td>\n",
       "      <td>...</td>\n",
       "      <td>0</td>\n",
       "      <td>0</td>\n",
       "      <td>0</td>\n",
       "      <td>0</td>\n",
       "      <td>0</td>\n",
       "      <td>0</td>\n",
       "      <td>0</td>\n",
       "      <td>0</td>\n",
       "      <td>0</td>\n",
       "      <td>0</td>\n",
       "    </tr>\n",
       "    <tr>\n",
       "      <td>2</td>\n",
       "      <td>0</td>\n",
       "      <td>0</td>\n",
       "      <td>0</td>\n",
       "      <td>0</td>\n",
       "      <td>0</td>\n",
       "      <td>1</td>\n",
       "      <td>0</td>\n",
       "      <td>0</td>\n",
       "      <td>0</td>\n",
       "      <td>0</td>\n",
       "      <td>...</td>\n",
       "      <td>0</td>\n",
       "      <td>0</td>\n",
       "      <td>0</td>\n",
       "      <td>0</td>\n",
       "      <td>0</td>\n",
       "      <td>0</td>\n",
       "      <td>0</td>\n",
       "      <td>0</td>\n",
       "      <td>0</td>\n",
       "      <td>0</td>\n",
       "    </tr>\n",
       "    <tr>\n",
       "      <td>3</td>\n",
       "      <td>0</td>\n",
       "      <td>0</td>\n",
       "      <td>0</td>\n",
       "      <td>0</td>\n",
       "      <td>0</td>\n",
       "      <td>0</td>\n",
       "      <td>0</td>\n",
       "      <td>0</td>\n",
       "      <td>0</td>\n",
       "      <td>0</td>\n",
       "      <td>...</td>\n",
       "      <td>0</td>\n",
       "      <td>0</td>\n",
       "      <td>0</td>\n",
       "      <td>0</td>\n",
       "      <td>0</td>\n",
       "      <td>0</td>\n",
       "      <td>0</td>\n",
       "      <td>0</td>\n",
       "      <td>0</td>\n",
       "      <td>0</td>\n",
       "    </tr>\n",
       "    <tr>\n",
       "      <td>4</td>\n",
       "      <td>0</td>\n",
       "      <td>0</td>\n",
       "      <td>0</td>\n",
       "      <td>0</td>\n",
       "      <td>0</td>\n",
       "      <td>0</td>\n",
       "      <td>0</td>\n",
       "      <td>0</td>\n",
       "      <td>0</td>\n",
       "      <td>0</td>\n",
       "      <td>...</td>\n",
       "      <td>0</td>\n",
       "      <td>0</td>\n",
       "      <td>0</td>\n",
       "      <td>0</td>\n",
       "      <td>0</td>\n",
       "      <td>0</td>\n",
       "      <td>0</td>\n",
       "      <td>0</td>\n",
       "      <td>0</td>\n",
       "      <td>0</td>\n",
       "    </tr>\n",
       "    <tr>\n",
       "      <td>...</td>\n",
       "      <td>...</td>\n",
       "      <td>...</td>\n",
       "      <td>...</td>\n",
       "      <td>...</td>\n",
       "      <td>...</td>\n",
       "      <td>...</td>\n",
       "      <td>...</td>\n",
       "      <td>...</td>\n",
       "      <td>...</td>\n",
       "      <td>...</td>\n",
       "      <td>...</td>\n",
       "      <td>...</td>\n",
       "      <td>...</td>\n",
       "      <td>...</td>\n",
       "      <td>...</td>\n",
       "      <td>...</td>\n",
       "      <td>...</td>\n",
       "      <td>...</td>\n",
       "      <td>...</td>\n",
       "      <td>...</td>\n",
       "      <td>...</td>\n",
       "    </tr>\n",
       "    <tr>\n",
       "      <td>1238</td>\n",
       "      <td>0</td>\n",
       "      <td>0</td>\n",
       "      <td>0</td>\n",
       "      <td>0</td>\n",
       "      <td>0</td>\n",
       "      <td>0</td>\n",
       "      <td>0</td>\n",
       "      <td>0</td>\n",
       "      <td>0</td>\n",
       "      <td>0</td>\n",
       "      <td>...</td>\n",
       "      <td>0</td>\n",
       "      <td>0</td>\n",
       "      <td>0</td>\n",
       "      <td>0</td>\n",
       "      <td>0</td>\n",
       "      <td>0</td>\n",
       "      <td>0</td>\n",
       "      <td>0</td>\n",
       "      <td>0</td>\n",
       "      <td>0</td>\n",
       "    </tr>\n",
       "    <tr>\n",
       "      <td>1239</td>\n",
       "      <td>0</td>\n",
       "      <td>0</td>\n",
       "      <td>0</td>\n",
       "      <td>0</td>\n",
       "      <td>0</td>\n",
       "      <td>0</td>\n",
       "      <td>0</td>\n",
       "      <td>0</td>\n",
       "      <td>0</td>\n",
       "      <td>0</td>\n",
       "      <td>...</td>\n",
       "      <td>0</td>\n",
       "      <td>0</td>\n",
       "      <td>0</td>\n",
       "      <td>0</td>\n",
       "      <td>0</td>\n",
       "      <td>0</td>\n",
       "      <td>0</td>\n",
       "      <td>0</td>\n",
       "      <td>0</td>\n",
       "      <td>0</td>\n",
       "    </tr>\n",
       "    <tr>\n",
       "      <td>1240</td>\n",
       "      <td>0</td>\n",
       "      <td>0</td>\n",
       "      <td>0</td>\n",
       "      <td>0</td>\n",
       "      <td>0</td>\n",
       "      <td>0</td>\n",
       "      <td>0</td>\n",
       "      <td>0</td>\n",
       "      <td>0</td>\n",
       "      <td>0</td>\n",
       "      <td>...</td>\n",
       "      <td>0</td>\n",
       "      <td>0</td>\n",
       "      <td>0</td>\n",
       "      <td>0</td>\n",
       "      <td>0</td>\n",
       "      <td>0</td>\n",
       "      <td>0</td>\n",
       "      <td>0</td>\n",
       "      <td>0</td>\n",
       "      <td>0</td>\n",
       "    </tr>\n",
       "    <tr>\n",
       "      <td>1241</td>\n",
       "      <td>0</td>\n",
       "      <td>0</td>\n",
       "      <td>0</td>\n",
       "      <td>0</td>\n",
       "      <td>0</td>\n",
       "      <td>0</td>\n",
       "      <td>0</td>\n",
       "      <td>0</td>\n",
       "      <td>0</td>\n",
       "      <td>0</td>\n",
       "      <td>...</td>\n",
       "      <td>0</td>\n",
       "      <td>0</td>\n",
       "      <td>0</td>\n",
       "      <td>0</td>\n",
       "      <td>0</td>\n",
       "      <td>0</td>\n",
       "      <td>0</td>\n",
       "      <td>0</td>\n",
       "      <td>0</td>\n",
       "      <td>0</td>\n",
       "    </tr>\n",
       "    <tr>\n",
       "      <td>1242</td>\n",
       "      <td>0</td>\n",
       "      <td>0</td>\n",
       "      <td>0</td>\n",
       "      <td>0</td>\n",
       "      <td>0</td>\n",
       "      <td>0</td>\n",
       "      <td>0</td>\n",
       "      <td>0</td>\n",
       "      <td>0</td>\n",
       "      <td>0</td>\n",
       "      <td>...</td>\n",
       "      <td>0</td>\n",
       "      <td>0</td>\n",
       "      <td>0</td>\n",
       "      <td>0</td>\n",
       "      <td>0</td>\n",
       "      <td>0</td>\n",
       "      <td>0</td>\n",
       "      <td>0</td>\n",
       "      <td>0</td>\n",
       "      <td>0</td>\n",
       "    </tr>\n",
       "  </tbody>\n",
       "</table>\n",
       "<p>1243 rows × 3858 columns</p>\n",
       "</div>"
      ],
      "text/plain": [
       "      aaron  abandon  abbrevi  abe  abil  abl  absolut  absolutist  absurd  \\\n",
       "0         0        0        0    0     0    0        0           0       0   \n",
       "1         0        0        0    0     0    0        0           0       0   \n",
       "2         0        0        0    0     0    1        0           0       0   \n",
       "3         0        0        0    0     0    0        0           0       0   \n",
       "4         0        0        0    0     0    0        0           0       0   \n",
       "...     ...      ...      ...  ...   ...  ...      ...         ...     ...   \n",
       "1238      0        0        0    0     0    0        0           0       0   \n",
       "1239      0        0        0    0     0    0        0           0       0   \n",
       "1240      0        0        0    0     0    0        0           0       0   \n",
       "1241      0        0        0    0     0    0        0           0       0   \n",
       "1242      0        0        0    0     0    0        0           0       0   \n",
       "\n",
       "      abus  ...  zealand  zenit  zero  zhge  zibikowski  zlatan  zone  zt  \\\n",
       "0        0  ...        0      0     0     0           0       0     0   0   \n",
       "1        0  ...        0      0     0     0           0       0     0   0   \n",
       "2        0  ...        0      0     0     0           0       0     0   0   \n",
       "3        0  ...        0      0     0     0           0       0     0   0   \n",
       "4        0  ...        0      0     0     0           0       0     0   0   \n",
       "...    ...  ...      ...    ...   ...   ...         ...     ...   ...  ..   \n",
       "1238     0  ...        0      0     0     0           0       0     0   0   \n",
       "1239     0  ...        0      0     0     0           0       0     0   0   \n",
       "1240     0  ...        0      0     0     0           0       0     0   0   \n",
       "1241     0  ...        0      0     0     0           0       0     0   0   \n",
       "1242     0  ...        0      0     0     0           0       0     0   0   \n",
       "\n",
       "      zucc  zuckerbutt  \n",
       "0        0           0  \n",
       "1        0           0  \n",
       "2        0           0  \n",
       "3        0           0  \n",
       "4        0           0  \n",
       "...    ...         ...  \n",
       "1238     0           0  \n",
       "1239     0           0  \n",
       "1240     0           0  \n",
       "1241     0           0  \n",
       "1242     0           0  \n",
       "\n",
       "[1243 rows x 3858 columns]"
      ]
     },
     "execution_count": 45,
     "metadata": {},
     "output_type": "execute_result"
    }
   ],
   "source": [
    "model_df= pd.DataFrame(cvec.transform(X_train_df).todense(), columns= cvec.get_feature_names())\n",
    "#model_df.drop(['aa','ab','abl','zjfftzk'],axis=1,inplace = True)\n",
    "model_df"
   ]
  },
  {
   "cell_type": "code",
   "execution_count": 46,
   "metadata": {},
   "outputs": [],
   "source": [
    "#model_df.shape"
   ]
  },
  {
   "cell_type": "code",
   "execution_count": 47,
   "metadata": {},
   "outputs": [
    {
     "data": {
      "text/plain": [
       "Index(['aaron', 'abandon', 'abbrevi', 'abe', 'abil', 'abl', 'absolut',\n",
       "       'absolutist', 'absurd', 'abus',\n",
       "       ...\n",
       "       'zealand', 'zenit', 'zero', 'zhge', 'zibikowski', 'zlatan', 'zone',\n",
       "       'zt', 'zucc', 'zuckerbutt'],\n",
       "      dtype='object', length=3858)"
      ]
     },
     "execution_count": 47,
     "metadata": {},
     "output_type": "execute_result"
    }
   ],
   "source": [
    "model_df.columns "
   ]
  },
  {
   "cell_type": "code",
   "execution_count": 48,
   "metadata": {},
   "outputs": [
    {
     "data": {
      "text/plain": [
       "team     226\n",
       "like     199\n",
       "would    166\n",
       "leagu    151\n",
       "ml       149\n",
       "go       148\n",
       "peopl    144\n",
       "year     141\n",
       "one      139\n",
       "think    138\n",
       "dtype: int64"
      ]
     },
     "execution_count": 48,
     "metadata": {},
     "output_type": "execute_result"
    }
   ],
   "source": [
    "model_df.sum().sort_values(ascending=False).head(10)"
   ]
  },
  {
   "cell_type": "markdown",
   "metadata": {},
   "source": [
    "#### Plottng the most frequent words used "
   ]
  },
  {
   "cell_type": "code",
   "execution_count": 49,
   "metadata": {},
   "outputs": [
    {
     "data": {
      "image/png": "[encoded data removed]",
      "text/plain": [
       "<Figure size 1080x360 with 1 Axes>"
      ]
     },
     "metadata": {
      "needs_background": "light"
     },
     "output_type": "display_data"
    }
   ],
   "source": [
    "plt.figure(figsize=(15,5))\n",
    "plt.style.use('seaborn')\n",
    "model_df.sum().sort_values(ascending=False).head(33).plot(kind='bar')\n",
    "plt.title('word distribution')\n",
    "plt.savefig('distr')"
   ]
  },
  {
   "cell_type": "code",
   "execution_count": 50,
   "metadata": {},
   "outputs": [
    {
     "data": {
      "text/plain": [
       "<1243x3858 sparse matrix of type '<class 'numpy.int64'>'\n",
       "\twith 11176 stored elements in Compressed Sparse Row format>"
      ]
     },
     "execution_count": 50,
     "metadata": {},
     "output_type": "execute_result"
    }
   ],
   "source": [
    "cvec.transform(X_train)"
   ]
  },
  {
   "cell_type": "markdown",
   "metadata": {},
   "source": [
    "### Modeling"
   ]
  },
  {
   "cell_type": "code",
   "execution_count": 51,
   "metadata": {},
   "outputs": [],
   "source": [
    "X_trains = cvec.transform(X_train_df)\n",
    "X_test = cvec.transform(X_test_df)"
   ]
  },
  {
   "cell_type": "markdown",
   "metadata": {},
   "source": [
    "### Baseline accuracy "
   ]
  },
  {
   "cell_type": "code",
   "execution_count": 52,
   "metadata": {},
   "outputs": [
    {
     "data": {
      "text/plain": [
       "1    0.564763\n",
       "0    0.435237\n",
       "Name: subreddit, dtype: float64"
      ]
     },
     "execution_count": 52,
     "metadata": {},
     "output_type": "execute_result"
    }
   ],
   "source": [
    "y_train.value_counts(normalize=True)"
   ]
  },
  {
   "cell_type": "markdown",
   "metadata": {},
   "source": [
    "#### Plotting the baseline accuracy "
   ]
  },
  {
   "cell_type": "code",
   "execution_count": 53,
   "metadata": {},
   "outputs": [
    {
     "data": {
      "image/png": "[encoded data removed]",
      "text/plain": [
       "<Figure size 576x396 with 1 Axes>"
      ]
     },
     "metadata": {},
     "output_type": "display_data"
    }
   ],
   "source": [
    "sns.countplot(y_train,)\n",
    "plt.style.use('seaborn')\n",
    "plt.title('Class distribution')\n",
    "plt.savefig('ptn')"
   ]
  },
  {
   "cell_type": "markdown",
   "metadata": {},
   "source": [
    "### In our dataset , 56 % of the comment are more likely to be football related commments "
   ]
  },
  {
   "cell_type": "code",
   "execution_count": 54,
   "metadata": {},
   "outputs": [],
   "source": [
    "from sklearn.pipeline import Pipeline\n",
    "pipe = Pipeline([\n",
    "    ('cvec', CountVectorizer(analyzer='word', ngram_range=(1, 2))),\n",
    "    ('lr', LogisticRegression(solver = 'lbfgs', max_iter= 100))\n",
    "])"
   ]
  },
  {
   "cell_type": "code",
   "execution_count": 55,
   "metadata": {},
   "outputs": [
    {
     "data": {
      "text/plain": [
       "Pipeline(memory=None,\n",
       "         steps=[('cvec',\n",
       "                 CountVectorizer(analyzer='word', binary=False,\n",
       "                                 decode_error='strict',\n",
       "                                 dtype=<class 'numpy.int64'>, encoding='utf-8',\n",
       "                                 input='content', lowercase=True, max_df=1.0,\n",
       "                                 max_features=None, min_df=1,\n",
       "                                 ngram_range=(1, 2), preprocessor=None,\n",
       "                                 stop_words=None, strip_accents=None,\n",
       "                                 token_pattern='(?u)\\\\b\\\\w\\\\w+\\\\b',\n",
       "                                 tokenizer=None, vocabulary=None)),\n",
       "                ('lr',\n",
       "                 LogisticRegression(C=1.0, class_weight=None, dual=False,\n",
       "                                    fit_intercept=True, intercept_scaling=1,\n",
       "                                    l1_ratio=None, max_iter=100,\n",
       "                                    multi_class='auto', n_jobs=None,\n",
       "                                    penalty='l2', random_state=None,\n",
       "                                    solver='lbfgs', tol=0.0001, verbose=0,\n",
       "                                    warm_start=False))],\n",
       "         verbose=False)"
      ]
     },
     "execution_count": 55,
     "metadata": {},
     "output_type": "execute_result"
    }
   ],
   "source": [
    "pipe.fit(X_train_df, y_train)"
   ]
  },
  {
   "cell_type": "code",
   "execution_count": 56,
   "metadata": {},
   "outputs": [
    {
     "data": {
      "text/plain": [
       "0.9831053901850362"
      ]
     },
     "execution_count": 56,
     "metadata": {},
     "output_type": "execute_result"
    }
   ],
   "source": [
    "pipe.score(X_train_df, y_train)"
   ]
  },
  {
   "cell_type": "code",
   "execution_count": 57,
   "metadata": {},
   "outputs": [
    {
     "data": {
      "text/plain": [
       "0.7325301204819277"
      ]
     },
     "execution_count": 57,
     "metadata": {},
     "output_type": "execute_result"
    }
   ],
   "source": [
    "pipe.score(X_test_df, y_test) "
   ]
  },
  {
   "cell_type": "code",
   "execution_count": 58,
   "metadata": {},
   "outputs": [
    {
     "data": {
      "text/plain": [
       "0.7208369710726966"
      ]
     },
     "execution_count": 58,
     "metadata": {},
     "output_type": "execute_result"
    }
   ],
   "source": [
    "cross_val_score(pipe, X_train_df, y_train, cv=3).mean() "
   ]
  },
  {
   "cell_type": "code",
   "execution_count": 59,
   "metadata": {},
   "outputs": [],
   "source": [
    " \n",
    "pipe_params = {\n",
    "    'cvec__max_features': [2_000, 3_000, 4_000, 5_000],\n",
    "    'cvec__min_df': [2, 3],\n",
    "    'cvec__max_df': [0.9,0.95],\n",
    "    'cvec__ngram_range': [(1,2)]\n",
    "}"
   ]
  },
  {
   "cell_type": "code",
   "execution_count": 60,
   "metadata": {},
   "outputs": [],
   "source": [
    "gs = GridSearchCV(pipe, # what object are we optimizing?\n",
    "                  param_grid = pipe_params,n_jobs= 2, # what parameters values are we searching?\n",
    "                  cv=10,)"
   ]
  },
  {
   "cell_type": "code",
   "execution_count": 61,
   "metadata": {},
   "outputs": [
    {
     "data": {
      "text/plain": [
       "GridSearchCV(cv=10, error_score=nan,\n",
       "             estimator=Pipeline(memory=None,\n",
       "                                steps=[('cvec',\n",
       "                                        CountVectorizer(analyzer='word',\n",
       "                                                        binary=False,\n",
       "                                                        decode_error='strict',\n",
       "                                                        dtype=<class 'numpy.int64'>,\n",
       "                                                        encoding='utf-8',\n",
       "                                                        input='content',\n",
       "                                                        lowercase=True,\n",
       "                                                        max_df=1.0,\n",
       "                                                        max_features=None,\n",
       "                                                        min_df=1,\n",
       "                                                        ngram_range=(1, 2),\n",
       "                                                        preprocessor=None,\n",
       "                                                        stop_words=None,\n",
       "                                                        strip_accents=None,\n",
       "                                                        token_pattern='(?u...\n",
       "                                                           n_jobs=None,\n",
       "                                                           penalty='l2',\n",
       "                                                           random_state=None,\n",
       "                                                           solver='lbfgs',\n",
       "                                                           tol=0.0001,\n",
       "                                                           verbose=0,\n",
       "                                                           warm_start=False))],\n",
       "                                verbose=False),\n",
       "             iid='deprecated', n_jobs=2,\n",
       "             param_grid={'cvec__max_df': [0.9, 0.95],\n",
       "                         'cvec__max_features': [2000, 3000, 4000, 5000],\n",
       "                         'cvec__min_df': [2, 3],\n",
       "                         'cvec__ngram_range': [(1, 2)]},\n",
       "             pre_dispatch='2*n_jobs', refit=True, return_train_score=False,\n",
       "             scoring=None, verbose=0)"
      ]
     },
     "execution_count": 61,
     "metadata": {},
     "output_type": "execute_result"
    }
   ],
   "source": [
    "gs.fit(X_train_df, y_train)"
   ]
  },
  {
   "cell_type": "code",
   "execution_count": 62,
   "metadata": {},
   "outputs": [
    {
     "name": "stdout",
     "output_type": "stream",
     "text": [
      "0.7289225806451614\n"
     ]
    }
   ],
   "source": [
    "print(gs.best_score_)"
   ]
  },
  {
   "cell_type": "code",
   "execution_count": 63,
   "metadata": {},
   "outputs": [],
   "source": [
    "pred_proba = gs.predict_proba(X_test_df)\n"
   ]
  },
  {
   "cell_type": "code",
   "execution_count": 64,
   "metadata": {},
   "outputs": [
    {
     "data": {
      "text/plain": [
       "array([1, 1, 0, 0, 1, 0, 0, 0, 0, 0, 1, 0, 1, 0, 1, 1, 0, 1, 1, 1, 0, 1,\n",
       "       1, 1, 0, 1, 1, 1, 1, 1, 0, 0, 1, 1, 1, 0, 1, 1, 0, 0, 0, 1, 0, 0,\n",
       "       1, 1, 0, 1, 1, 0, 1, 1, 1, 0, 0, 1, 1, 1, 1, 0, 0, 1, 0, 1, 0, 1,\n",
       "       1, 1, 0, 1, 1, 1, 0, 0, 1, 0, 1, 1, 1, 1, 0, 0, 0, 1, 1, 1, 1, 1,\n",
       "       1, 1, 0, 1, 0, 0, 0, 1, 1, 0, 0, 1, 1, 1, 1, 1, 0, 0, 1, 1, 0, 1,\n",
       "       1, 0, 1, 0, 1, 1, 0, 1, 1, 1, 0, 1, 0, 0, 1, 1, 0, 1, 1, 1, 1, 1,\n",
       "       0, 1, 1, 1, 1, 1, 0, 0, 1, 1, 1, 0, 1, 1, 1, 0, 0, 1, 1, 0, 0, 0,\n",
       "       0, 0, 0, 1, 1, 1, 1, 1, 1, 1, 1, 1, 0, 1, 1, 1, 1, 0, 0, 1, 1, 0,\n",
       "       0, 0, 1, 1, 0, 1, 0, 1, 1, 1, 0, 1, 1, 0, 0, 1, 0, 1, 0, 1, 0, 0,\n",
       "       0, 0, 1, 0, 1, 0, 0, 0, 0, 1, 0, 1, 1, 1, 0, 0, 1, 1, 0, 0, 1, 0,\n",
       "       1, 1, 0, 0, 0, 1, 0, 1, 1, 0, 1, 1, 1, 1, 0, 1, 0, 1, 1, 1, 1, 1,\n",
       "       1, 1, 0, 0, 1, 1, 0, 1, 0, 1, 1, 1, 1, 1, 1, 0, 0, 0, 0, 0, 1, 1,\n",
       "       0, 1, 0, 1, 1, 1, 0, 0, 1, 1, 1, 0, 0, 1, 0, 1, 1, 1, 1, 1, 1, 1,\n",
       "       1, 0, 1, 0, 1, 1, 1, 1, 0, 1, 1, 0, 0, 0, 1, 1, 1, 0, 1, 1, 1, 1,\n",
       "       1, 0, 0, 1, 1, 0, 0, 0, 1, 0, 0, 1, 0, 1, 1, 1, 1, 1, 1, 1, 1, 1,\n",
       "       1, 1, 1, 1, 1, 0, 1, 1, 1, 0, 1, 1, 0, 0, 0, 0, 1, 1, 0, 1, 1, 0,\n",
       "       0, 1, 0, 1, 0, 0, 0, 1, 0, 1, 0, 0, 0, 1, 0, 1, 1, 1, 1, 1, 0, 0,\n",
       "       1, 0, 0, 1, 1, 1, 0, 0, 0, 0, 0, 0, 0, 0, 0, 0, 0, 1, 0, 0, 1, 0,\n",
       "       1, 1, 0, 1, 0, 0, 1, 0, 0, 1, 0, 0, 0, 1, 0, 0, 1, 0, 0],\n",
       "      dtype=int64)"
      ]
     },
     "execution_count": 64,
     "metadata": {},
     "output_type": "execute_result"
    }
   ],
   "source": [
    "pred = gs.predict(X_test_df)\n",
    "pred"
   ]
  },
  {
   "cell_type": "code",
   "execution_count": 65,
   "metadata": {},
   "outputs": [
    {
     "data": {
      "text/plain": [
       "(415,)"
      ]
     },
     "execution_count": 65,
     "metadata": {},
     "output_type": "execute_result"
    }
   ],
   "source": [
    "pred.shape"
   ]
  },
  {
   "cell_type": "code",
   "execution_count": 66,
   "metadata": {},
   "outputs": [
    {
     "data": {
      "text/plain": [
       "{'cvec__max_df': 0.9,\n",
       " 'cvec__max_features': 2000,\n",
       " 'cvec__min_df': 2,\n",
       " 'cvec__ngram_range': (1, 2)}"
      ]
     },
     "execution_count": 66,
     "metadata": {},
     "output_type": "execute_result"
    }
   ],
   "source": [
    "gs.best_params_"
   ]
  },
  {
   "cell_type": "code",
   "execution_count": 67,
   "metadata": {},
   "outputs": [
    {
     "name": "stdout",
     "output_type": "stream",
     "text": [
      "Pipeline(memory=None,\n",
      "         steps=[('cvec',\n",
      "                 CountVectorizer(analyzer='word', binary=False,\n",
      "                                 decode_error='strict',\n",
      "                                 dtype=<class 'numpy.int64'>, encoding='utf-8',\n",
      "                                 input='content', lowercase=True, max_df=0.9,\n",
      "                                 max_features=2000, min_df=2,\n",
      "                                 ngram_range=(1, 2), preprocessor=None,\n",
      "                                 stop_words=None, strip_accents=None,\n",
      "                                 token_pattern='(?u)\\\\b\\\\w\\\\w+\\\\b',\n",
      "                                 tokenizer=None, vocabulary=None)),\n",
      "                ('lr',\n",
      "                 LogisticRegression(C=1.0, class_weight=None, dual=False,\n",
      "                                    fit_intercept=True, intercept_scaling=1,\n",
      "                                    l1_ratio=None, max_iter=100,\n",
      "                                    multi_class='auto', n_jobs=None,\n",
      "                                    penalty='l2', random_state=None,\n",
      "                                    solver='lbfgs', tol=0.0001, verbose=0,\n",
      "                                    warm_start=False))],\n",
      "         verbose=False)\n"
     ]
    }
   ],
   "source": [
    "print(gs.best_estimator_)"
   ]
  },
  {
   "cell_type": "markdown",
   "metadata": {},
   "source": [
    "### classifcation metrics and evaluation "
   ]
  },
  {
   "cell_type": "markdown",
   "metadata": {},
   "source": [
    "#### confusion matrix "
   ]
  },
  {
   "cell_type": "code",
   "execution_count": 68,
   "metadata": {},
   "outputs": [],
   "source": [
    "from sklearn.metrics import plot_confusion_matrix"
   ]
  },
  {
   "cell_type": "code",
   "execution_count": 69,
   "metadata": {},
   "outputs": [
    {
     "data": {
      "text/plain": [
       "array([[126,  56],\n",
       "       [ 51, 182]], dtype=int64)"
      ]
     },
     "execution_count": 69,
     "metadata": {},
     "output_type": "execute_result"
    }
   ],
   "source": [
    "disp = confusion_matrix(y_test,\n",
    "                 pred)\n",
    "disp"
   ]
  },
  {
   "cell_type": "code",
   "execution_count": 70,
   "metadata": {},
   "outputs": [],
   "source": [
    "tn1, fp1, fn1, tp1 = confusion_matrix(y_test, pred).ravel()"
   ]
  },
  {
   "cell_type": "code",
   "execution_count": 71,
   "metadata": {},
   "outputs": [
    {
     "name": "stdout",
     "output_type": "stream",
     "text": [
      " the true negative rate is : 0.6923076923076923\n",
      " the true positive rate is : 0.7811158798283262\n"
     ]
    }
   ],
   "source": [
    "spec = tn1 / (tn1 + fp1)\n",
    "sens = tp1 / (tp1 + fn1)\n",
    "print(f' the true negative rate is : {spec}')\n",
    "print(f' the true positive rate is : {sens}')"
   ]
  },
  {
   "cell_type": "code",
   "execution_count": 72,
   "metadata": {},
   "outputs": [
    {
     "data": {
      "text/html": [
       "<div>\n",
       "<style scoped>\n",
       "    .dataframe tbody tr th:only-of-type {\n",
       "        vertical-align: middle;\n",
       "    }\n",
       "\n",
       "    .dataframe tbody tr th {\n",
       "        vertical-align: top;\n",
       "    }\n",
       "\n",
       "    .dataframe thead th {\n",
       "        text-align: right;\n",
       "    }\n",
       "</style>\n",
       "<table border=\"1\" class=\"dataframe\">\n",
       "  <thead>\n",
       "    <tr style=\"text-align: right;\">\n",
       "      <th></th>\n",
       "      <th>actual_values</th>\n",
       "      <th>pred_probs</th>\n",
       "      <th>predicted_outcomes</th>\n",
       "    </tr>\n",
       "  </thead>\n",
       "  <tbody>\n",
       "    <tr>\n",
       "      <td>1465</td>\n",
       "      <td>0</td>\n",
       "      <td>0.738121</td>\n",
       "      <td>1</td>\n",
       "    </tr>\n",
       "    <tr>\n",
       "      <td>413</td>\n",
       "      <td>1</td>\n",
       "      <td>0.520153</td>\n",
       "      <td>1</td>\n",
       "    </tr>\n",
       "    <tr>\n",
       "      <td>838</td>\n",
       "      <td>1</td>\n",
       "      <td>0.388417</td>\n",
       "      <td>0</td>\n",
       "    </tr>\n",
       "    <tr>\n",
       "      <td>490</td>\n",
       "      <td>1</td>\n",
       "      <td>0.285657</td>\n",
       "      <td>0</td>\n",
       "    </tr>\n",
       "    <tr>\n",
       "      <td>1156</td>\n",
       "      <td>0</td>\n",
       "      <td>0.681175</td>\n",
       "      <td>1</td>\n",
       "    </tr>\n",
       "    <tr>\n",
       "      <td>...</td>\n",
       "      <td>...</td>\n",
       "      <td>...</td>\n",
       "      <td>...</td>\n",
       "    </tr>\n",
       "    <tr>\n",
       "      <td>1536</td>\n",
       "      <td>0</td>\n",
       "      <td>0.316457</td>\n",
       "      <td>0</td>\n",
       "    </tr>\n",
       "    <tr>\n",
       "      <td>1269</td>\n",
       "      <td>0</td>\n",
       "      <td>0.366302</td>\n",
       "      <td>0</td>\n",
       "    </tr>\n",
       "    <tr>\n",
       "      <td>629</td>\n",
       "      <td>1</td>\n",
       "      <td>0.986362</td>\n",
       "      <td>1</td>\n",
       "    </tr>\n",
       "    <tr>\n",
       "      <td>1234</td>\n",
       "      <td>0</td>\n",
       "      <td>0.448061</td>\n",
       "      <td>0</td>\n",
       "    </tr>\n",
       "    <tr>\n",
       "      <td>1108</td>\n",
       "      <td>0</td>\n",
       "      <td>0.437251</td>\n",
       "      <td>0</td>\n",
       "    </tr>\n",
       "  </tbody>\n",
       "</table>\n",
       "<p>415 rows × 3 columns</p>\n",
       "</div>"
      ],
      "text/plain": [
       "      actual_values  pred_probs  predicted_outcomes\n",
       "1465              0    0.738121                   1\n",
       "413               1    0.520153                   1\n",
       "838               1    0.388417                   0\n",
       "490               1    0.285657                   0\n",
       "1156              0    0.681175                   1\n",
       "...             ...         ...                 ...\n",
       "1536              0    0.316457                   0\n",
       "1269              0    0.366302                   0\n",
       "629               1    0.986362                   1\n",
       "1234              0    0.448061                   0\n",
       "1108              0    0.437251                   0\n",
       "\n",
       "[415 rows x 3 columns]"
      ]
     },
     "execution_count": 72,
     "metadata": {},
     "output_type": "execute_result"
    }
   ],
   "source": [
    "pred_proba = [i[1] for i in pred_proba]\n",
    "\n",
    "pred_df1 = pd.DataFrame({'actual_values': y_test,\n",
    "                        'pred_probs': pred_proba,\n",
    "                        'predicted_outcomes': pred\n",
    "                        })\n",
    "pred_df1"
   ]
  },
  {
   "cell_type": "code",
   "execution_count": 73,
   "metadata": {},
   "outputs": [
    {
     "data": {
      "text/plain": [
       "<bound method Series.mean of 1465    0.738121\n",
       "413     0.520153\n",
       "838     0.388417\n",
       "490     0.285657\n",
       "1156    0.681175\n",
       "          ...   \n",
       "1536    0.316457\n",
       "1269    0.366302\n",
       "629     0.986362\n",
       "1234    0.448061\n",
       "1108    0.437251\n",
       "Name: pred_probs, Length: 415, dtype: float64>"
      ]
     },
     "execution_count": 73,
     "metadata": {},
     "output_type": "execute_result"
    }
   ],
   "source": [
    "pred_df1['pred_probs'].mean"
   ]
  },
  {
   "cell_type": "code",
   "execution_count": 74,
   "metadata": {},
   "outputs": [],
   "source": [
    "#pd.DataFrame(pred_proba)"
   ]
  },
  {
   "cell_type": "code",
   "execution_count": 75,
   "metadata": {},
   "outputs": [
    {
     "data": {
      "image/png": "[encoded data removed]",
      "text/plain": [
       "<Figure size 1080x360 with 1 Axes>"
      ]
     },
     "metadata": {},
     "output_type": "display_data"
    }
   ],
   "source": [
    "plt.figure(figsize = (15,5))\n",
    "plt.hist(pred_df1['pred_probs'], bins = 25)\n",
    "plt.title('Distribution of P(MLS = 1)', fontsize = 12)\n",
    "plt.ylabel('Frequency', fontsize = 12)\n",
    "plt.xlabel('Predicted Probability of outcome (MLS) = 1', fontsize = 12);\n",
    "plt.savefig('tp')"
   ]
  },
  {
   "cell_type": "code",
   "execution_count": 76,
   "metadata": {},
   "outputs": [
    {
     "data": {
      "image/png": "[encoded data removed]",
      "text/plain": [
       "<Figure size 1080x360 with 1 Axes>"
      ]
     },
     "metadata": {},
     "output_type": "display_data"
    }
   ],
   "source": [
    "plt.figure(figsize = (15,5))\n",
    "plt.hist(pred_df1[pred_df1['actual_values'] == 0]['pred_probs'],\n",
    "         bins = 25,\n",
    "         color = 'r',\n",
    "         alpha = 0.6,\n",
    "         label = 'Outcome = 0')\n",
    "plt.hist(pred_df1[pred_df1['actual_values'] == 1]['pred_probs'],\n",
    "         bins = 25,\n",
    "         color = 'b',\n",
    "         alpha = 0.6,\n",
    "         label = 'Outcome = 1')\n",
    "plt.vlines(x = 0.4,\n",
    "           ymin = 0,\n",
    "           ymax = 30,\n",
    "           color = 'k',\n",
    "           linestyle = '--')\n",
    "plt.title('Distribution of outcome (MLS = 1)', fontsize = 15)\n",
    "plt.ylabel('Frequency', fontsize = 15)\n",
    "plt.xlabel('Predicted Probability that Outcome = 1', fontsize = 15)\n",
    "plt.legend(fontsize=10)\n",
    "plt.savefig('distribution')"
   ]
  },
  {
   "cell_type": "markdown",
   "metadata": {},
   "source": [
    "### with 0.5 treshold, what does that mean to my classifier abality?"
   ]
  },
  {
   "cell_type": "code",
   "execution_count": 77,
   "metadata": {},
   "outputs": [
    {
     "data": {
      "text/plain": [
       "<matplotlib.legend.Legend at 0x1eb3a9263c8>"
      ]
     },
     "execution_count": 77,
     "metadata": {},
     "output_type": "execute_result"
    },
    {
     "data": {
      "image/png": "[encoded data removed]",
      "text/plain": [
       "<Figure size 720x504 with 1 Axes>"
      ]
     },
     "metadata": {},
     "output_type": "display_data"
    }
   ],
   "source": [
    "plt.figure(figsize = (10,7))\n",
    "thresholds = np.linspace(0, 1, 200)\n",
    "def roc(df, true_col, pred_prob_col, threshold):\n",
    "    true_positive = df[(df[true_col] == 1) & (df[pred_prob_col] >= threshold)].shape[0]\n",
    "    false_negative = df[(df[true_col] == 1) & (df[pred_prob_col] < threshold)].shape[0]\n",
    "    return true_positive / (true_positive + false_negative)\n",
    "def ocu(df, true_col, pred_prob_col, threshold):\n",
    "    true_negative = df[(df[true_col] == 0) & (df[pred_prob_col] <= threshold)].shape[0]\n",
    "    false_positive = df[(df[true_col] == 0) & (df[pred_prob_col] > threshold)].shape[0]\n",
    "    return 1 - (true_negative / (true_negative + false_positive))\n",
    "tpr_values = [roc(pred_df1, 'actual_values', 'pred_probs', prob) for prob in thresholds]\n",
    "fpr_values = [ocu(pred_df1, 'actual_values', 'pred_probs', prob) for prob in thresholds]\n",
    "plt.plot(fpr_values,\n",
    "         tpr_values, \n",
    "         label= 'ROC Curve')\n",
    "plt.plot(np.linspace(0, 1, 200),\n",
    "         np.linspace(0, 1, 200),\n",
    "         label='baseline',\n",
    "         linestyle='--',\n",
    "         color = 'k')\n",
    "plt.title('Receiver Operating Characteristic Curve', fontsize=15)\n",
    "plt.ylabel('true positive rate', fontsize=10)\n",
    "plt.xlabel('false positive rate', fontsize=10)\n",
    "plt.savefig('roc1')\n",
    "plt.legend()"
   ]
  },
  {
   "cell_type": "markdown",
   "metadata": {},
   "source": [
    "#### Multinomial naive Bayes "
   ]
  },
  {
   "cell_type": "markdown",
   "metadata": {},
   "source": [
    "##### transforming our list of data into a dataframe "
   ]
  },
  {
   "cell_type": "code",
   "execution_count": 78,
   "metadata": {},
   "outputs": [],
   "source": [
    "from sklearn.naive_bayes import MultinomialNB"
   ]
  },
  {
   "cell_type": "code",
   "execution_count": 79,
   "metadata": {},
   "outputs": [
    {
     "data": {
      "text/html": [
       "<div>\n",
       "<style scoped>\n",
       "    .dataframe tbody tr th:only-of-type {\n",
       "        vertical-align: middle;\n",
       "    }\n",
       "\n",
       "    .dataframe tbody tr th {\n",
       "        vertical-align: top;\n",
       "    }\n",
       "\n",
       "    .dataframe thead th {\n",
       "        text-align: right;\n",
       "    }\n",
       "</style>\n",
       "<table border=\"1\" class=\"dataframe\">\n",
       "  <thead>\n",
       "    <tr style=\"text-align: right;\">\n",
       "      <th></th>\n",
       "      <th>comment</th>\n",
       "      <th>Sport_type</th>\n",
       "    </tr>\n",
       "  </thead>\n",
       "  <tbody>\n",
       "    <tr>\n",
       "      <td>886</td>\n",
       "      <td>think fan go allow back game leagu around worl...</td>\n",
       "      <td>1</td>\n",
       "    </tr>\n",
       "    <tr>\n",
       "      <td>233</td>\n",
       "      <td>remov</td>\n",
       "      <td>1</td>\n",
       "    </tr>\n",
       "    <tr>\n",
       "      <td>582</td>\n",
       "      <td>ml player would never abl play brazil ml team ...</td>\n",
       "      <td>1</td>\n",
       "    </tr>\n",
       "    <tr>\n",
       "      <td>1472</td>\n",
       "      <td>better seafood imagin</td>\n",
       "      <td>0</td>\n",
       "    </tr>\n",
       "    <tr>\n",
       "      <td>196</td>\n",
       "      <td>singular death time anyth peopl die unless som...</td>\n",
       "      <td>1</td>\n",
       "    </tr>\n",
       "    <tr>\n",
       "      <td>...</td>\n",
       "      <td>...</td>\n",
       "      <td>...</td>\n",
       "    </tr>\n",
       "    <tr>\n",
       "      <td>1130</td>\n",
       "      <td>nah dont realli want one rn feel weird put eff...</td>\n",
       "      <td>0</td>\n",
       "    </tr>\n",
       "    <tr>\n",
       "      <td>1294</td>\n",
       "      <td>make er fan look bad er fan sinc kap join team...</td>\n",
       "      <td>0</td>\n",
       "    </tr>\n",
       "    <tr>\n",
       "      <td>860</td>\n",
       "      <td>never heard new england flag</td>\n",
       "      <td>1</td>\n",
       "    </tr>\n",
       "    <tr>\n",
       "      <td>1459</td>\n",
       "      <td>guy buc</td>\n",
       "      <td>0</td>\n",
       "    </tr>\n",
       "    <tr>\n",
       "      <td>1126</td>\n",
       "      <td>evid suggest go case</td>\n",
       "      <td>0</td>\n",
       "    </tr>\n",
       "  </tbody>\n",
       "</table>\n",
       "<p>1243 rows × 2 columns</p>\n",
       "</div>"
      ],
      "text/plain": [
       "                                                comment  Sport_type\n",
       "886   think fan go allow back game leagu around worl...           1\n",
       "233                                               remov           1\n",
       "582   ml player would never abl play brazil ml team ...           1\n",
       "1472                              better seafood imagin           0\n",
       "196   singular death time anyth peopl die unless som...           1\n",
       "...                                                 ...         ...\n",
       "1130  nah dont realli want one rn feel weird put eff...           0\n",
       "1294  make er fan look bad er fan sinc kap join team...           0\n",
       "860                        never heard new england flag           1\n",
       "1459                                            guy buc           0\n",
       "1126                               evid suggest go case           0\n",
       "\n",
       "[1243 rows x 2 columns]"
      ]
     },
     "execution_count": 79,
     "metadata": {},
     "output_type": "execute_result"
    }
   ],
   "source": [
    "X_final = pd.DataFrame({'comment': X_train_df,\n",
    "                      'Sport_type' : y_train})\n",
    "X_final\n"
   ]
  },
  {
   "cell_type": "code",
   "execution_count": 80,
   "metadata": {},
   "outputs": [
    {
     "data": {
      "text/html": [
       "<div>\n",
       "<style scoped>\n",
       "    .dataframe tbody tr th:only-of-type {\n",
       "        vertical-align: middle;\n",
       "    }\n",
       "\n",
       "    .dataframe tbody tr th {\n",
       "        vertical-align: top;\n",
       "    }\n",
       "\n",
       "    .dataframe thead th {\n",
       "        text-align: right;\n",
       "    }\n",
       "</style>\n",
       "<table border=\"1\" class=\"dataframe\">\n",
       "  <thead>\n",
       "    <tr style=\"text-align: right;\">\n",
       "      <th></th>\n",
       "      <th>comment</th>\n",
       "    </tr>\n",
       "  </thead>\n",
       "  <tbody>\n",
       "    <tr>\n",
       "      <td>0</td>\n",
       "      <td>son order popcorn hot dog nacho local cinema u...</td>\n",
       "    </tr>\n",
       "    <tr>\n",
       "      <td>1</td>\n",
       "      <td>tip want add floodlight replac grass glow ston...</td>\n",
       "    </tr>\n",
       "    <tr>\n",
       "      <td>2</td>\n",
       "      <td>even pogba stay still rd midfield spot right w...</td>\n",
       "    </tr>\n",
       "    <tr>\n",
       "      <td>3</td>\n",
       "      <td>god damnit right</td>\n",
       "    </tr>\n",
       "    <tr>\n",
       "      <td>4</td>\n",
       "      <td>peopl busi</td>\n",
       "    </tr>\n",
       "    <tr>\n",
       "      <td>...</td>\n",
       "      <td>...</td>\n",
       "    </tr>\n",
       "    <tr>\n",
       "      <td>410</td>\n",
       "      <td>pm wouldv nice last pick made around</td>\n",
       "    </tr>\n",
       "    <tr>\n",
       "      <td>411</td>\n",
       "      <td>worst thing could say cowboy</td>\n",
       "    </tr>\n",
       "    <tr>\n",
       "      <td>412</td>\n",
       "      <td>believ true long peopl said ml championship le...</td>\n",
       "    </tr>\n",
       "    <tr>\n",
       "      <td>413</td>\n",
       "      <td>enjoy think implement major player stay home s...</td>\n",
       "    </tr>\n",
       "    <tr>\n",
       "      <td>414</td>\n",
       "      <td>seem like love damien lewi think take job</td>\n",
       "    </tr>\n",
       "  </tbody>\n",
       "</table>\n",
       "<p>415 rows × 1 columns</p>\n",
       "</div>"
      ],
      "text/plain": [
       "                                               comment\n",
       "0    son order popcorn hot dog nacho local cinema u...\n",
       "1    tip want add floodlight replac grass glow ston...\n",
       "2    even pogba stay still rd midfield spot right w...\n",
       "3                                     god damnit right\n",
       "4                                           peopl busi\n",
       "..                                                 ...\n",
       "410               pm wouldv nice last pick made around\n",
       "411                       worst thing could say cowboy\n",
       "412  believ true long peopl said ml championship le...\n",
       "413  enjoy think implement major player stay home s...\n",
       "414          seem like love damien lewi think take job\n",
       "\n",
       "[415 rows x 1 columns]"
      ]
     },
     "execution_count": 80,
     "metadata": {},
     "output_type": "execute_result"
    }
   ],
   "source": [
    "X_final_test = pd.DataFrame({'comment': X_test_df})\n",
    "X_final_test "
   ]
  },
  {
   "cell_type": "code",
   "execution_count": 81,
   "metadata": {},
   "outputs": [
    {
     "data": {
      "text/plain": [
       "MultinomialNB(alpha=1.0, class_prior=None, fit_prior=True)"
      ]
     },
     "execution_count": 81,
     "metadata": {},
     "output_type": "execute_result"
    }
   ],
   "source": [
    "cvec2 = CountVectorizer()\n",
    "X_count = cvec2.fit_transform(X_final['comment'])\n",
    "X_count_test = cvec2.transform(X_final_test['comment'])\n",
    "Bclass = MultinomialNB()\n",
    "Bclass.fit(X_count,y_train)\n",
    "#predictions ="
   ]
  },
  {
   "cell_type": "code",
   "execution_count": 82,
   "metadata": {},
   "outputs": [
    {
     "name": "stdout",
     "output_type": "stream",
     "text": [
      "Binomial score on train data :0.9227674979887369\n",
      "Binomial score on test data :0.7903614457831325\n"
     ]
    }
   ],
   "source": [
    "Bino_score_train = Bclass.score(X_count, y_train)\n",
    "Bino_score_test = Bclass.score(X_count_test,y_test) \n",
    "print(f'Binomial score on train data :{Bino_score_train}')\n",
    "print(f'Binomial score on test data :{Bino_score_test}')"
   ]
  },
  {
   "cell_type": "markdown",
   "metadata": {},
   "source": [
    "#### Predictive outcomes"
   ]
  },
  {
   "cell_type": "code",
   "execution_count": 83,
   "metadata": {},
   "outputs": [
    {
     "data": {
      "text/plain": [
       "array([1, 0, 1, 0, 1, 0, 0, 1, 1, 1, 1, 1, 1, 0, 1, 0, 0, 1, 1, 0, 0, 1,\n",
       "       1, 1, 0, 1, 1, 1, 1, 1, 0, 0, 1, 1, 1, 1, 1, 1, 0, 0, 1, 1, 1, 1,\n",
       "       1, 1, 0, 0, 1, 0, 1, 1, 1, 0, 0, 1, 1, 1, 1, 0, 1, 1, 0, 1, 0, 1,\n",
       "       1, 1, 1, 1, 0, 0, 0, 0, 1, 1, 0, 1, 1, 0, 0, 1, 0, 0, 1, 1, 1, 1,\n",
       "       1, 1, 0, 1, 0, 0, 0, 1, 1, 1, 1, 1, 1, 1, 1, 0, 0, 1, 1, 1, 0, 1,\n",
       "       1, 0, 1, 0, 1, 1, 0, 1, 1, 1, 0, 1, 0, 0, 1, 1, 0, 1, 1, 0, 1, 1,\n",
       "       0, 1, 1, 1, 1, 1, 0, 0, 1, 1, 1, 0, 1, 1, 1, 0, 1, 1, 1, 0, 0, 0,\n",
       "       0, 0, 0, 1, 1, 1, 1, 0, 1, 1, 1, 1, 0, 1, 1, 1, 0, 0, 0, 1, 1, 0,\n",
       "       0, 1, 1, 1, 0, 1, 1, 1, 1, 1, 1, 0, 1, 0, 1, 1, 0, 1, 0, 1, 0, 1,\n",
       "       0, 0, 1, 1, 1, 0, 0, 0, 0, 1, 0, 1, 1, 0, 0, 0, 1, 1, 1, 0, 1, 1,\n",
       "       1, 1, 1, 0, 0, 0, 0, 1, 1, 1, 1, 0, 1, 1, 0, 1, 0, 1, 1, 0, 1, 1,\n",
       "       1, 1, 0, 1, 1, 1, 1, 1, 0, 0, 0, 1, 1, 0, 1, 0, 1, 1, 1, 0, 0, 1,\n",
       "       0, 1, 0, 1, 1, 1, 0, 1, 1, 1, 1, 0, 0, 1, 0, 1, 0, 1, 1, 1, 1, 1,\n",
       "       1, 0, 1, 1, 1, 1, 1, 1, 0, 1, 1, 0, 1, 1, 1, 1, 0, 0, 1, 1, 1, 1,\n",
       "       1, 1, 0, 1, 0, 1, 0, 1, 1, 0, 0, 1, 1, 0, 1, 1, 1, 0, 1, 1, 1, 1,\n",
       "       1, 1, 1, 1, 1, 0, 1, 1, 1, 0, 1, 1, 0, 0, 1, 1, 1, 1, 0, 1, 1, 0,\n",
       "       1, 1, 0, 1, 1, 0, 1, 1, 0, 1, 0, 0, 0, 1, 1, 1, 1, 1, 1, 0, 0, 0,\n",
       "       1, 1, 1, 1, 0, 1, 1, 0, 1, 1, 1, 0, 0, 0, 0, 0, 0, 1, 0, 0, 1, 0,\n",
       "       1, 1, 0, 0, 0, 1, 1, 0, 0, 1, 0, 1, 1, 1, 0, 0, 1, 1, 0],\n",
       "      dtype=int64)"
      ]
     },
     "execution_count": 83,
     "metadata": {},
     "output_type": "execute_result"
    }
   ],
   "source": [
    "predi = Bclass.predict(X_count_test)\n",
    "predi"
   ]
  },
  {
   "cell_type": "code",
   "execution_count": 84,
   "metadata": {},
   "outputs": [],
   "source": [
    "prediction = Bclass.predict_proba(X_count_test)"
   ]
  },
  {
   "cell_type": "code",
   "execution_count": 85,
   "metadata": {},
   "outputs": [
    {
     "data": {
      "text/plain": [
       "array([[123,  59],\n",
       "       [ 28, 205]], dtype=int64)"
      ]
     },
     "execution_count": 85,
     "metadata": {},
     "output_type": "execute_result"
    }
   ],
   "source": [
    "confmatrix = confusion_matrix(y_test,\n",
    "                 predi)\n",
    "confmatrix"
   ]
  },
  {
   "cell_type": "code",
   "execution_count": 86,
   "metadata": {},
   "outputs": [
    {
     "name": "stdout",
     "output_type": "stream",
     "text": [
      " the true negative rate is : 0.6758241758241759\n",
      " the true positive rate is : 0.8798283261802575\n"
     ]
    }
   ],
   "source": [
    "tn2, fp2, fn2, tp2 = confusion_matrix(y_test, predi).ravel()\n",
    "spec = tn2 / (tn2 + fp2)\n",
    "sens = tp2 / (tp2 + fn2)\n",
    "print(f' the true negative rate is : {spec}')\n",
    "print(f' the true positive rate is : {sens}')"
   ]
  },
  {
   "cell_type": "code",
   "execution_count": 87,
   "metadata": {},
   "outputs": [
    {
     "data": {
      "text/html": [
       "<div>\n",
       "<style scoped>\n",
       "    .dataframe tbody tr th:only-of-type {\n",
       "        vertical-align: middle;\n",
       "    }\n",
       "\n",
       "    .dataframe tbody tr th {\n",
       "        vertical-align: top;\n",
       "    }\n",
       "\n",
       "    .dataframe thead th {\n",
       "        text-align: right;\n",
       "    }\n",
       "</style>\n",
       "<table border=\"1\" class=\"dataframe\">\n",
       "  <thead>\n",
       "    <tr style=\"text-align: right;\">\n",
       "      <th></th>\n",
       "      <th>actual_val</th>\n",
       "      <th>pred_prob</th>\n",
       "      <th>predicted_ outcome</th>\n",
       "    </tr>\n",
       "  </thead>\n",
       "  <tbody>\n",
       "    <tr>\n",
       "      <td>1465</td>\n",
       "      <td>0</td>\n",
       "      <td>0.662633</td>\n",
       "      <td>1</td>\n",
       "    </tr>\n",
       "    <tr>\n",
       "      <td>413</td>\n",
       "      <td>1</td>\n",
       "      <td>0.048299</td>\n",
       "      <td>0</td>\n",
       "    </tr>\n",
       "    <tr>\n",
       "      <td>838</td>\n",
       "      <td>1</td>\n",
       "      <td>0.908088</td>\n",
       "      <td>1</td>\n",
       "    </tr>\n",
       "    <tr>\n",
       "      <td>490</td>\n",
       "      <td>1</td>\n",
       "      <td>0.196544</td>\n",
       "      <td>0</td>\n",
       "    </tr>\n",
       "    <tr>\n",
       "      <td>1156</td>\n",
       "      <td>0</td>\n",
       "      <td>0.961488</td>\n",
       "      <td>1</td>\n",
       "    </tr>\n",
       "  </tbody>\n",
       "</table>\n",
       "</div>"
      ],
      "text/plain": [
       "      actual_val  pred_prob  predicted_ outcome\n",
       "1465           0   0.662633                   1\n",
       "413            1   0.048299                   0\n",
       "838            1   0.908088                   1\n",
       "490            1   0.196544                   0\n",
       "1156           0   0.961488                   1"
      ]
     },
     "execution_count": 87,
     "metadata": {},
     "output_type": "execute_result"
    }
   ],
   "source": [
    "predict = [i[1] for i in prediction]\n",
    "\n",
    "pred_df = pd.DataFrame({'actual_val':y_test,\n",
    "                        'pred_prob':predict,\n",
    "                        'predicted_ outcome':predi\n",
    "                        })\n",
    "pred_df.head(5)"
   ]
  },
  {
   "cell_type": "code",
   "execution_count": 88,
   "metadata": {},
   "outputs": [
    {
     "data": {
      "image/png": "[encoded data removed]",
      "text/plain": [
       "<Figure size 1080x360 with 1 Axes>"
      ]
     },
     "metadata": {},
     "output_type": "display_data"
    }
   ],
   "source": [
    "plt.figure(figsize = (15,5))\n",
    "plt.hist(pred_df['pred_prob'], bins = 25)\n",
    "# Label axes.\n",
    "plt.title('Distribution of P(football = 1)', fontsize = 12)\n",
    "plt.ylabel('Frequency', fontsize = 12)\n",
    "plt.xlabel('Predicted Probability that football = 1', fontsize = 12);"
   ]
  },
  {
   "cell_type": "code",
   "execution_count": null,
   "metadata": {},
   "outputs": [],
   "source": []
  },
  {
   "cell_type": "code",
   "execution_count": 89,
   "metadata": {},
   "outputs": [
    {
     "data": {
      "image/png": "[encoded data removed]",
      "text/plain": [
       "<Figure size 1080x360 with 1 Axes>"
      ]
     },
     "metadata": {},
     "output_type": "display_data"
    }
   ],
   "source": [
    "plt.figure(figsize = (15,5))\n",
    "plt.hist(pred_df[pred_df['actual_val'] == 0]['pred_prob'],\n",
    "         bins = 25,\n",
    "         color = 'r',\n",
    "         alpha = 0.6,\n",
    "         label = 'Outcome = 0')\n",
    "plt.hist(pred_df[pred_df['actual_val'] == 1]['pred_prob'],\n",
    "         bins = 25,\n",
    "         color = 'b',\n",
    "         alpha = 0.6,\n",
    "         label = 'Outcome = 1')\n",
    "plt.vlines(x = 0.6,\n",
    "           ymin = 0,\n",
    "           ymax = 80,\n",
    "           color = 'k',\n",
    "           linestyle = '--')\n",
    "plt.title('Distribution of P(football = 1)', fontsize = 15)\n",
    "plt.ylabel('Frequency', fontsize = 15)\n",
    "plt.xlabel('Predicted Probability that Outcome = 1', fontsize = 15)\n",
    "plt.legend(fontsize=15)\n",
    "plt.savefig('tp2')"
   ]
  },
  {
   "cell_type": "markdown",
   "metadata": {},
   "source": [
    "#### the quality of the classication is determined by how seprare are our prediction between the 2 outcomes(mls comment and nfl comments)"
   ]
  },
  {
   "cell_type": "markdown",
   "metadata": {},
   "source": [
    "#### On the treshold of 6,the classication of nfl and mls comments  seems to be apprenrent on multinomial naive bayers "
   ]
  },
  {
   "cell_type": "code",
   "execution_count": 90,
   "metadata": {},
   "outputs": [
    {
     "data": {
      "image/png": "[encoded data removed]",
      "text/plain": [
       "<Figure size 720x504 with 1 Axes>"
      ]
     },
     "metadata": {},
     "output_type": "display_data"
    }
   ],
   "source": [
    "plt.figure(figsize = (10,7))\n",
    "\n",
    "# Create threshold values.\n",
    "thresholds = np.linspace(0, 1, 200)\n",
    "\n",
    "# Define function to calculate sensitivity. (True positive rate.)\n",
    "def TPR(df, true_col, pred_prob_col, threshold):\n",
    "    true_positive = df[(df[true_col] == 1) & (df[pred_prob_col] >= threshold)].shape[0]\n",
    "    false_negative = df[(df[true_col] == 1) & (df[pred_prob_col] < threshold)].shape[0]\n",
    "    return true_positive / (true_positive + false_negative)\n",
    "    \n",
    "\n",
    "# Define function to calculate 1 - specificity. (False positive rate.)\n",
    "def FPR(df, true_col, pred_prob_col, threshold):\n",
    "    true_negative = df[(df[true_col] == 0) & (df[pred_prob_col] <= threshold)].shape[0]\n",
    "    false_positive = df[(df[true_col] == 0) & (df[pred_prob_col] > threshold)].shape[0]\n",
    "    return 1 - (true_negative / (true_negative + false_positive))\n",
    "\n",
    "\n",
    "\n",
    "tpr_values = [TPR(pred_df, 'actual_val', 'pred_prob', prob) for prob in thresholds]\n",
    "fpr_values = [FPR(pred_df, 'actual_val', 'pred_prob', prob) for prob in thresholds]\n",
    "plt.plot(fpr_values,\n",
    "         tpr_values, \n",
    "         label='ROC Curve')\n",
    "plt.plot(np.linspace(0, 1, 200),\n",
    "         np.linspace(0, 1, 200),\n",
    "         label='baseline',\n",
    "         linestyle='--',\n",
    "        color='k')\n",
    "plt.title('Receiver Operating Characteristic Curve', fontsize=15)\n",
    "plt.ylabel('true positive rate', fontsize=10)\n",
    "plt.xlabel('false positive rate', fontsize=10)\n",
    "plt.legend(fontsize=10);\n",
    "plt.savefig('roc2')"
   ]
  },
  {
   "cell_type": "markdown",
   "metadata": {},
   "source": [
    "#### comparative analysis of classifiers"
   ]
  },
  {
   "cell_type": "code",
   "execution_count": 91,
   "metadata": {},
   "outputs": [
    {
     "data": {
      "image/png": "[encoded data removed]",
      "text/plain": [
       "<Figure size 720x504 with 1 Axes>"
      ]
     },
     "metadata": {},
     "output_type": "display_data"
    }
   ],
   "source": [
    "plt.figure(figsize = (10,7))\n",
    "thresholds = np.linspace(0, 1, 200)  \n",
    "def roc(df, true_col, pred_prob_col, threshold):\n",
    "    true_positive = df[(df[true_col] == 1) & (df[pred_prob_col] >= threshold)].shape[0]\n",
    "    false_negative = df[(df[true_col] == 1) & (df[pred_prob_col] < threshold)].shape[0]\n",
    "    return true_positive / (true_positive + false_negative)\n",
    "def ocu(df, true_col, pred_prob_col, threshold):\n",
    "    true_negative = df[(df[true_col] == 0) & (df[pred_prob_col] <= threshold)].shape[0]\n",
    "    false_positive = df[(df[true_col] == 0) & (df[pred_prob_col] > threshold)].shape[0]\n",
    "    return 1 - (true_negative / (true_negative + false_positive))\n",
    "tpr_values1 = [roc(pred_df1, 'actual_values', 'pred_probs', prob) for prob in thresholds]\n",
    "fpr_values1 = [ocu(pred_df1, 'actual_values', 'pred_probs', prob) for prob in thresholds]\n",
    "plt.plot(fpr_values1,\n",
    "         tpr_values1, \n",
    "         label='Logistic regression(AUC = 0.80)')\n",
    "tpr_values = [roc(pred_df, 'actual_val', 'pred_prob', prob) for prob in thresholds]\n",
    "fpr_values = [ocu(pred_df, 'actual_val', 'pred_prob', prob) for prob in thresholds]\n",
    "plt.plot(fpr_values,\n",
    "         tpr_values, \n",
    "         label='Binomial naive Bayers(AUC = 0.83)')\n",
    "plt.plot(np.linspace(0, 1, 200),\n",
    "         np.linspace(0, 1, 200),\n",
    "         label='baseline',\n",
    "         linestyle='--',\n",
    "        color='k')\n",
    "plt.title('Combined receiver Operating Characteristic Curve', fontsize=15)\n",
    "plt.ylabel('true positive rate', fontsize=10)\n",
    "plt.xlabel('false positive rate', fontsize=10)\n",
    "plt.legend(fontsize=15);\n",
    "plt.savefig('rocfinal')"
   ]
  },
  {
   "cell_type": "markdown",
   "metadata": {},
   "source": [
    "#### the quality of our classifier is  defined by how far each curve is from the base line.\n",
    "#### the further the curvefrom the baseline , the better the  classifier is to perform well on classifying comments."
   ]
  },
  {
   "cell_type": "markdown",
   "metadata": {},
   "source": [
    "#### An Optimal threshold of True positive  rate of  0.83 in Binomial naïve Bayes increases by 7%  our classifier accuracy  rate of  Predicting NFL and MLC comment on reddit \n"
   ]
  },
  {
   "cell_type": "code",
   "execution_count": 92,
   "metadata": {},
   "outputs": [],
   "source": [
    "from sklearn.metrics import confusion_matrix, classification_report, roc_curve, auc"
   ]
  },
  {
   "cell_type": "code",
   "execution_count": 101,
   "metadata": {},
   "outputs": [
    {
     "name": "stdout",
     "output_type": "stream",
     "text": [
      "The AUC logistic 0.7367117860680092\n",
      "The AUC logistic 0.7778262510022167\n"
     ]
    }
   ],
   "source": [
    "fp1,tp1, treshold = roc_curve(y_test , pred)\n",
    "auc1 = auc(fp1,tp1)\n",
    "\n",
    "fp2,tp2, treshold = roc_curve(y_test , predi)\n",
    "auc2 = auc(fp2,tp2)\n",
    "print(f'The AUC logistic {auc1}')\n",
    "print(f'The AUC logistic {auc2}')"
   ]
  },
  {
   "cell_type": "markdown",
   "metadata": {},
   "source": [
    "#### Apply the best model on 3 new randomly chosen reddit comments "
   ]
  },
  {
   "cell_type": "code",
   "execution_count": 103,
   "metadata": {},
   "outputs": [
    {
     "data": {
      "text/plain": [
       "array([0, 1, 1], dtype=int64)"
      ]
     },
     "execution_count": 103,
     "metadata": {},
     "output_type": "execute_result"
    }
   ],
   "source": [
    "Exemple = [\" the Galaxy wasn't good enought today\", \" the team season seems to be cancelled  \", \" Russel is the best player in MLS\"]\n",
    "\n",
    "exemple_count= cvec2.transform(Exemple)\n",
    "Predictions = Bclass.predict(exemple_count)\n",
    "Predictions"
   ]
  },
  {
   "cell_type": "code",
   "execution_count": null,
   "metadata": {},
   "outputs": [],
   "source": []
  },
  {
   "cell_type": "code",
   "execution_count": null,
   "metadata": {},
   "outputs": [],
   "source": []
  },
  {
   "cell_type": "code",
   "execution_count": null,
   "metadata": {},
   "outputs": [],
   "source": []
  },
  {
   "cell_type": "code",
   "execution_count": null,
   "metadata": {},
   "outputs": [],
   "source": []
  }
 ],
 "metadata": {
  "kernelspec": {
   "display_name": "Python 3",
   "language": "python",
   "name": "python3"
  },
  "language_info": {
   "codemirror_mode": {
    "name": "ipython",
    "version": 3
   },
   "file_extension": ".py",
   "mimetype": "text/x-python",
   "name": "python",
   "nbconvert_exporter": "python",
   "pygments_lexer": "ipython3",
   "version": "3.7.4"
  }
 },
 "nbformat": 4,
 "nbformat_minor": 4
}
